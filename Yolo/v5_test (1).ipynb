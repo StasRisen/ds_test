{
 "cells": [
  {
   "cell_type": "code",
   "execution_count": 67,
   "id": "62327864",
   "metadata": {
    "cellId": "7u16qbjswy2axwetrawaym"
   },
   "outputs": [
    {
     "data": {
      "text/plain": [
       "'test_annotation/val_anno.json'"
      ]
     },
     "execution_count": 67,
     "metadata": {},
     "output_type": "execute_result"
    }
   ],
   "source": [
    "import sys\n",
    "import os\n",
    "from shutil import move\n",
    "\n",
    "sys.path.append('JSON2YOLO')\n",
    "from JSON2YOLO.general_json2yolo import convert_coco_json\n",
    "\n",
    "test_path = 'test_annotation'\n",
    "train_path = 'train_annotation'\n",
    "\n",
    "os.makedirs(train_path, exist_ok=True)\n",
    "os.makedirs(test_path, exist_ok=True)\n",
    "\n",
    "\n",
    "move('train_anno.json', os.path.join(train_path, 'train_anno.json'))\n",
    "move('val_anno.json', os.path.join(test_path, 'val_anno.json'))"
   ]
  },
  {
   "cell_type": "code",
   "execution_count": 92,
   "id": "3c7db6e3",
   "metadata": {
    "cellId": "5ek3p051nyl008vy7lepq2pr"
   },
   "outputs": [],
   "source": [
    "import contextlib\n",
    "import json\n",
    "\n",
    "import cv2\n",
    "import pandas as pd\n",
    "from PIL import Image\n",
    "from collections import defaultdict\n",
    "\n",
    "from utils import *"
   ]
  },
  {
   "cell_type": "code",
   "execution_count": 102,
   "id": "5d20a0e6",
   "metadata": {
    "cellId": "esvih1isj5c60kpu2ynth"
   },
   "outputs": [
    {
     "name": "stdout",
     "output_type": "stream",
     "text": [
      "/home/jupyter/work/resources/JSON2YOLO\n"
     ]
    }
   ],
   "source": [
    "%cd ../JSON2YOLO/"
   ]
  },
  {
   "cell_type": "code",
   "execution_count": 138,
   "id": "ab75c0d2",
   "metadata": {
    "cellId": "y63fo3l718diwju6mxf1sn"
   },
   "outputs": [
    {
     "name": "stdout",
     "output_type": "stream",
     "text": [
      "\u001b[33mWARNING: Ignoring invalid distribution -pencv-contrib-python (/home/jupyter/.local/lib/python3.8/site-packages)\u001b[0m\n",
      "\u001b[33mWARNING: Skipping python-utils as it is not installed.\u001b[0m\n"
     ]
    }
   ],
   "source": [
    "%pip uninstall python-utils"
   ]
  },
  {
   "cell_type": "code",
   "execution_count": 122,
   "id": "fca9a06d",
   "metadata": {
    "cellId": "o1zle7hv49j58cjy5ve12y"
   },
   "outputs": [
    {
     "data": {
      "text/plain": [
       "['/home/jupyter/work/resources',\n",
       " '/usr/lib/python38.zip',\n",
       " '/usr/lib/python3.8',\n",
       " '/usr/lib/python3.8/lib-dynload',\n",
       " '',\n",
       " '/kernel/lib/python3.8/site-packages',\n",
       " '/home/jupyter/.local/lib/python3.8/site-packages',\n",
       " '/kernel/fallback/lib/python3.8/site-packages',\n",
       " '/usr/local/lib/python3.8/dist-packages',\n",
       " '/usr/lib/python3/dist-packages',\n",
       " '/kernel/lib/python3.8/site-packages/IPython/extensions',\n",
       " '/home/jupyter/.ipython',\n",
       " '/kernel/lib/python3.8/site-packages/IPython/extensions',\n",
       " '../JSON2YOLO',\n",
       " '../JSON2YOLO/utils.py',\n",
       " '/home/jupyter/work/resources/JSON2YOLO']"
      ]
     },
     "execution_count": 122,
     "metadata": {},
     "output_type": "execute_result"
    }
   ],
   "source": [
    "sys.path"
   ]
  },
  {
   "cell_type": "code",
   "execution_count": 140,
   "id": "7e8b7bb8",
   "metadata": {
    "cellId": "5d365twme6u4vqyo36d49x"
   },
   "outputs": [
    {
     "data": {
      "text/plain": [
       "'/home/jupyter/work/resources'"
      ]
     },
     "execution_count": 140,
     "metadata": {},
     "output_type": "execute_result"
    }
   ],
   "source": [
    "%pwd"
   ]
  },
  {
   "cell_type": "code",
   "execution_count": 159,
   "id": "3164e458",
   "metadata": {
    "cellId": "bjb01xw2k5c7hjx5xjjg7v"
   },
   "outputs": [
    {
     "name": "stderr",
     "output_type": "stream",
     "text": [
      "Annotations /home/jupyter/work/resources/train_annotation/train_anno.json: 100%|██████████| 54188/54188 [00:55<00:00, 976.16it/s] \n"
     ]
    }
   ],
   "source": [
    "sys.path.append('./JSON2YOLO')\n",
    "from JSON2YOLO.general_json2yolo import convert_coco_json\n",
    "from JSON2YOLO.utils import make_dirs\n",
    "for folder in ['labels', 'images']:\n",
    "    for path in [test_path, train_path]:\n",
    "        os.makedirs(os.path.join(path, folder), exist_ok=True)\n",
    "\n",
    "convert_coco_json(train_path)\n",
    "#for file in tqdm(os.listdir(os.path.join('new_dir/labels/train_anno'))):\n",
    "#    move(os.path.join('new_dir/labels/train_anno', file), os.path.join(train_path, 'labels', file))\n",
    "\n",
    "#convert_coco_json('./test_annotation/')\n",
    "#for file in tqdm(os.listdir(os.path.join('new_dir/labels/val_anno'))):\n",
    "#    move(os.path.join('new_dir/labels/val_anno', file), os.path.join(test_path, 'labels', file))"
   ]
  },
  {
   "cell_type": "code",
   "execution_count": 155,
   "id": "8fb7bea9",
   "metadata": {
    "cellId": "hf4386awqoocbki8v437gn"
   },
   "outputs": [],
   "source": [
    "from tqdm import tqdm"
   ]
  },
  {
   "cell_type": "code",
   "execution_count": 146,
   "id": "474fa452",
   "metadata": {
    "cellId": "uv3h3e1rajjzmkbpzr1ms"
   },
   "outputs": [
    {
     "data": {
      "text/plain": [
       "'/home/jupyter/work/resources'"
      ]
     },
     "execution_count": 146,
     "metadata": {},
     "output_type": "execute_result"
    }
   ],
   "source": [
    "%pwd"
   ]
  },
  {
   "cell_type": "code",
   "execution_count": 160,
   "id": "2ea252bf",
   "metadata": {
    "cellId": "u0hybwnkj2gf9av8dc1wqh"
   },
   "outputs": [
    {
     "name": "stderr",
     "output_type": "stream",
     "text": [
      "100%|██████████| 54188/54188 [01:21<00:00, 661.35it/s]\n",
      "Annotations /home/jupyter/work/resources/test_annotation/val_anno.json: 100%|██████████| 5000/5000 [00:04<00:00, 1043.65it/s]\n",
      "100%|██████████| 5000/5000 [00:06<00:00, 762.53it/s]\n"
     ]
    }
   ],
   "source": [
    "for file in tqdm(os.listdir(os.path.join('new_dir/labels/train_anno'))):\n",
    "    move(os.path.join('new_dir/labels/train_anno', file), os.path.join(train_path, 'labels', file))\n",
    "\n",
    "convert_coco_json('./test_annotation/')\n",
    "for file in tqdm(os.listdir(os.path.join('new_dir/labels/val_anno'))):\n",
    "    move(os.path.join('new_dir/labels/val_anno', file), os.path.join(test_path, 'labels', file))"
   ]
  },
  {
   "cell_type": "code",
   "execution_count": 174,
   "id": "eca10ee5",
   "metadata": {
    "cellId": "wxjjn5a1oobq01ocjzukxf"
   },
   "outputs": [],
   "source": [
    "test_labels = os.listdir(os.path.join(test_path, 'labels'))\n",
    "train_labels = os.listdir(os.path.join(train_path, 'labels'))\n",
    "\n",
    "test_labels = set(map(lambda x: x.split('.')[0], test_labels))\n",
    "train_labels = set(map(lambda x: x.split('.')[0], train_labels))\n",
    "\n",
    "images = 'rtsd-frames/rtsd-frames'\n",
    "for file in os.listdir(images):\n",
    "    name = file.split('.')[0]\n",
    "    if name in train_labels:\n",
    "        move(os.path.join(images, file), os.path.join(train_path,'images', file))\n",
    "    if name in test_labels:\n",
    "        move(os.path.join(images, file), os.path.join(test_path,'images', file))"
   ]
  },
  {
   "cell_type": "code",
   "execution_count": 173,
   "id": "edb55a36",
   "metadata": {
    "cellId": "70y9rciz4y44szovxn0pd9"
   },
   "outputs": [
    {
     "name": "stdout",
     "output_type": "stream",
     "text": [
      "/home/jupyter/work/resources\n"
     ]
    },
    {
     "data": {
      "text/plain": [
       "'/home/jupyter/work/resources'"
      ]
     },
     "execution_count": 173,
     "metadata": {},
     "output_type": "execute_result"
    }
   ],
   "source": [
    "%cd ../\n",
    "%pwd"
   ]
  },
  {
   "cell_type": "code",
   "execution_count": 163,
   "id": "a9ca5711",
   "metadata": {
    "cellId": "2iqwy39vprs6s1kyrq3lu"
   },
   "outputs": [
    {
     "name": "stderr",
     "output_type": "stream",
     "text": [
      "Cloning into 'yolov5'...\n"
     ]
    },
    {
     "name": "stdout",
     "output_type": "stream",
     "text": [
      "/home/jupyter/work/resources/yolov5\n",
      "Defaulting to user installation because normal site-packages is not writeable\n",
      "\u001b[33mWARNING: Ignoring invalid distribution -pencv-contrib-python (/home/jupyter/.local/lib/python3.8/site-packages)\u001b[0m\n",
      "Requirement already satisfied: gitpython in /usr/local/lib/python3.8/dist-packages (from -r requirements.txt (line 5)) (3.1.24)\n",
      "Collecting ipython\n",
      "  Downloading ipython-7.13.0-py3-none-any.whl (780 kB)\n",
      "     |████████████████████████████████| 780 kB 1.7 MB/s            \n",
      "\u001b[?25hRequirement already satisfied: matplotlib>=3.2.2 in /kernel/lib/python3.8/site-packages (from -r requirements.txt (line 7)) (3.3.3)\n",
      "Requirement already satisfied: numpy>=1.18.5 in /home/jupyter/.local/lib/python3.8/site-packages (from -r requirements.txt (line 8)) (1.23.5)\n",
      "Requirement already satisfied: opencv-python>=4.1.1 in /home/jupyter/.local/lib/python3.8/site-packages (from -r requirements.txt (line 9)) (4.6.0.66)\n",
      "Requirement already satisfied: Pillow>=7.1.2 in /kernel/lib/python3.8/site-packages (from -r requirements.txt (line 10)) (9.3.0)\n",
      "Requirement already satisfied: psutil in /kernel/lib/python3.8/site-packages (from -r requirements.txt (line 11)) (5.7.3)\n",
      "Requirement already satisfied: PyYAML>=5.3.1 in /usr/local/lib/python3.8/dist-packages (from -r requirements.txt (line 12)) (5.3.1)\n",
      "Requirement already satisfied: requests>=2.23.0 in /kernel/lib/python3.8/site-packages (from -r requirements.txt (line 13)) (2.25.1)\n",
      "Requirement already satisfied: scipy>=1.4.1 in /usr/local/lib/python3.8/dist-packages (from -r requirements.txt (line 14)) (1.4.1)\n",
      "Requirement already satisfied: thop>=0.1.1 in /home/jupyter/.local/lib/python3.8/site-packages (from -r requirements.txt (line 15)) (0.1.1.post2209072238)\n",
      "Requirement already satisfied: torch>=1.7.0 in /usr/local/lib/python3.8/dist-packages (from -r requirements.txt (line 16)) (1.9.1+cu111)\n",
      "Requirement already satisfied: torchvision>=0.8.1 in /usr/local/lib/python3.8/dist-packages (from -r requirements.txt (line 17)) (0.10.1+cu111)\n",
      "Requirement already satisfied: tqdm>=4.64.0 in /home/jupyter/.local/lib/python3.8/site-packages (from -r requirements.txt (line 18)) (4.64.1)\n",
      "Requirement already satisfied: tensorboard>=2.4.1 in /usr/local/lib/python3.8/dist-packages (from -r requirements.txt (line 22)) (2.6.0)\n",
      "Requirement already satisfied: pandas>=1.1.4 in /home/jupyter/.local/lib/python3.8/site-packages (from -r requirements.txt (line 27)) (1.5.2)\n",
      "Requirement already satisfied: seaborn>=0.11.0 in /home/jupyter/.local/lib/python3.8/site-packages (from -r requirements.txt (line 28)) (0.12.1)\n",
      "Requirement already satisfied: typing-extensions>=3.7.4.3 in /usr/local/lib/python3.8/dist-packages (from gitpython->-r requirements.txt (line 5)) (3.7.4.3)\n",
      "Requirement already satisfied: gitdb<5,>=4.0.1 in /usr/local/lib/python3.8/dist-packages (from gitpython->-r requirements.txt (line 5)) (4.0.9)\n",
      "Requirement already satisfied: decorator in /kernel/lib/python3.8/site-packages (from ipython->-r requirements.txt (line 6)) (5.1.1)\n",
      "Requirement already satisfied: prompt-toolkit!=3.0.0,!=3.0.1,<3.1.0,>=2.0.0 in /kernel/lib/python3.8/site-packages (from ipython->-r requirements.txt (line 6)) (3.0.33)\n",
      "Requirement already satisfied: pickleshare in /kernel/lib/python3.8/site-packages (from ipython->-r requirements.txt (line 6)) (0.7.5)\n",
      "Requirement already satisfied: setuptools>=18.5 in /kernel/lib/python3.8/site-packages (from ipython->-r requirements.txt (line 6)) (51.0.0)\n",
      "Requirement already satisfied: traitlets>=4.2 in /kernel/lib/python3.8/site-packages (from ipython->-r requirements.txt (line 6)) (5.5.0)\n",
      "Requirement already satisfied: pygments in /kernel/lib/python3.8/site-packages (from ipython->-r requirements.txt (line 6)) (2.13.0)\n",
      "Requirement already satisfied: pexpect in /kernel/lib/python3.8/site-packages (from ipython->-r requirements.txt (line 6)) (4.8.0)\n",
      "Requirement already satisfied: backcall in /kernel/lib/python3.8/site-packages (from ipython->-r requirements.txt (line 6)) (0.2.0)\n",
      "Requirement already satisfied: jedi>=0.10 in /kernel/lib/python3.8/site-packages (from ipython->-r requirements.txt (line 6)) (0.17.2)\n",
      "Requirement already satisfied: pyparsing!=2.0.4,!=2.1.2,!=2.1.6,>=2.0.3 in /kernel/lib/python3.8/site-packages (from matplotlib>=3.2.2->-r requirements.txt (line 7)) (2.4.7)\n",
      "Requirement already satisfied: python-dateutil>=2.1 in /kernel/lib/python3.8/site-packages (from matplotlib>=3.2.2->-r requirements.txt (line 7)) (2.8.2)\n",
      "Requirement already satisfied: kiwisolver>=1.0.1 in /kernel/lib/python3.8/site-packages (from matplotlib>=3.2.2->-r requirements.txt (line 7)) (1.4.4)\n",
      "Requirement already satisfied: cycler>=0.10 in /kernel/lib/python3.8/site-packages (from matplotlib>=3.2.2->-r requirements.txt (line 7)) (0.11.0)\n",
      "Requirement already satisfied: certifi>=2017.4.17 in /kernel/lib/python3.8/site-packages (from requests>=2.23.0->-r requirements.txt (line 13)) (2022.9.24)\n",
      "Requirement already satisfied: chardet<5,>=3.0.2 in /kernel/lib/python3.8/site-packages (from requests>=2.23.0->-r requirements.txt (line 13)) (4.0.0)\n",
      "Requirement already satisfied: urllib3<1.27,>=1.21.1 in /kernel/lib/python3.8/site-packages (from requests>=2.23.0->-r requirements.txt (line 13)) (1.26.12)\n",
      "Requirement already satisfied: idna<3,>=2.5 in /kernel/lib/python3.8/site-packages (from requests>=2.23.0->-r requirements.txt (line 13)) (2.10)\n",
      "Requirement already satisfied: grpcio>=1.24.3 in /usr/local/lib/python3.8/dist-packages (from tensorboard>=2.4.1->-r requirements.txt (line 22)) (1.43.0)\n",
      "Requirement already satisfied: absl-py>=0.4 in /usr/local/lib/python3.8/dist-packages (from tensorboard>=2.4.1->-r requirements.txt (line 22)) (0.12.0)\n",
      "Requirement already satisfied: werkzeug>=0.11.15 in /usr/local/lib/python3.8/dist-packages (from tensorboard>=2.4.1->-r requirements.txt (line 22)) (2.0.2)\n",
      "Requirement already satisfied: markdown>=2.6.8 in /usr/local/lib/python3.8/dist-packages (from tensorboard>=2.4.1->-r requirements.txt (line 22)) (3.3.6)\n",
      "Requirement already satisfied: wheel>=0.26 in /usr/local/lib/python3.8/dist-packages (from tensorboard>=2.4.1->-r requirements.txt (line 22)) (0.37.1)\n",
      "Requirement already satisfied: protobuf>=3.6.0 in /usr/local/lib/python3.8/dist-packages (from tensorboard>=2.4.1->-r requirements.txt (line 22)) (3.19.1)\n",
      "Requirement already satisfied: google-auth<2,>=1.6.3 in /usr/local/lib/python3.8/dist-packages (from tensorboard>=2.4.1->-r requirements.txt (line 22)) (1.35.0)\n",
      "Requirement already satisfied: tensorboard-plugin-wit>=1.6.0 in /usr/local/lib/python3.8/dist-packages (from tensorboard>=2.4.1->-r requirements.txt (line 22)) (1.8.0)\n",
      "Requirement already satisfied: tensorboard-data-server<0.7.0,>=0.6.0 in /usr/local/lib/python3.8/dist-packages (from tensorboard>=2.4.1->-r requirements.txt (line 22)) (0.6.1)\n",
      "Requirement already satisfied: google-auth-oauthlib<0.5,>=0.4.1 in /usr/local/lib/python3.8/dist-packages (from tensorboard>=2.4.1->-r requirements.txt (line 22)) (0.4.6)\n",
      "Requirement already satisfied: pytz>=2020.1 in /usr/local/lib/python3.8/dist-packages (from pandas>=1.1.4->-r requirements.txt (line 27)) (2021.3)\n",
      "Requirement already satisfied: six in /kernel/lib/python3.8/site-packages (from absl-py>=0.4->tensorboard>=2.4.1->-r requirements.txt (line 22)) (1.16.0)\n",
      "Requirement already satisfied: smmap<6,>=3.0.1 in /usr/local/lib/python3.8/dist-packages (from gitdb<5,>=4.0.1->gitpython->-r requirements.txt (line 5)) (5.0.0)\n",
      "Requirement already satisfied: cachetools<5.0,>=2.0.0 in /usr/local/lib/python3.8/dist-packages (from google-auth<2,>=1.6.3->tensorboard>=2.4.1->-r requirements.txt (line 22)) (4.2.4)\n",
      "Requirement already satisfied: pyasn1-modules>=0.2.1 in /usr/local/lib/python3.8/dist-packages (from google-auth<2,>=1.6.3->tensorboard>=2.4.1->-r requirements.txt (line 22)) (0.2.8)\n",
      "Requirement already satisfied: rsa<5,>=3.1.4 in /usr/local/lib/python3.8/dist-packages (from google-auth<2,>=1.6.3->tensorboard>=2.4.1->-r requirements.txt (line 22)) (4.8)\n",
      "Requirement already satisfied: requests-oauthlib>=0.7.0 in /usr/local/lib/python3.8/dist-packages (from google-auth-oauthlib<0.5,>=0.4.1->tensorboard>=2.4.1->-r requirements.txt (line 22)) (1.3.0)\n",
      "Requirement already satisfied: parso<0.8.0,>=0.7.0 in /kernel/lib/python3.8/site-packages (from jedi>=0.10->ipython->-r requirements.txt (line 6)) (0.7.1)\n",
      "Requirement already satisfied: importlib-metadata>=4.4 in /kernel/lib/python3.8/site-packages (from markdown>=2.6.8->tensorboard>=2.4.1->-r requirements.txt (line 22)) (5.0.0)\n",
      "Requirement already satisfied: wcwidth in /kernel/lib/python3.8/site-packages (from prompt-toolkit!=3.0.0,!=3.0.1,<3.1.0,>=2.0.0->ipython->-r requirements.txt (line 6)) (0.2.5)\n",
      "Requirement already satisfied: ptyprocess>=0.5 in /kernel/lib/python3.8/site-packages (from pexpect->ipython->-r requirements.txt (line 6)) (0.7.0)\n",
      "Requirement already satisfied: zipp>=0.5 in /kernel/lib/python3.8/site-packages (from importlib-metadata>=4.4->markdown>=2.6.8->tensorboard>=2.4.1->-r requirements.txt (line 22)) (3.10.0)\n",
      "Requirement already satisfied: pyasn1<0.5.0,>=0.4.6 in /usr/local/lib/python3.8/dist-packages (from pyasn1-modules>=0.2.1->google-auth<2,>=1.6.3->tensorboard>=2.4.1->-r requirements.txt (line 22)) (0.4.8)\n",
      "Requirement already satisfied: oauthlib>=3.0.0 in /usr/local/lib/python3.8/dist-packages (from requests-oauthlib>=0.7.0->google-auth-oauthlib<0.5,>=0.4.1->tensorboard>=2.4.1->-r requirements.txt (line 22)) (3.1.1)\n",
      "\u001b[33mWARNING: Ignoring invalid distribution -pencv-contrib-python (/home/jupyter/.local/lib/python3.8/site-packages)\u001b[0m\n",
      "Installing collected packages: ipython\n",
      "\u001b[33m  WARNING: The scripts iptest, iptest3, ipython and ipython3 are installed in '/home/jupyter/.local/bin' which is not on PATH.\n",
      "  Consider adding this directory to PATH or, if you prefer to suppress this warning, use --no-warn-script-location.\u001b[0m\n",
      "\u001b[33mWARNING: Ignoring invalid distribution -pencv-contrib-python (/home/jupyter/.local/lib/python3.8/site-packages)\u001b[0m\n",
      "Successfully installed ipython-7.13.0\n",
      "\u001b[33mWARNING: Ignoring invalid distribution -pencv-contrib-python (/home/jupyter/.local/lib/python3.8/site-packages)\u001b[0m\n",
      "\u001b[33mWARNING: Ignoring invalid distribution -pencv-contrib-python (/home/jupyter/.local/lib/python3.8/site-packages)\u001b[0m\n",
      "\u001b[33mWARNING: You are using pip version 21.3.1; however, version 22.3.1 is available.\n",
      "You should consider upgrading via the '/usr/local/bin/python3 -m pip install --upgrade pip' command.\u001b[0m\n"
     ]
    }
   ],
   "source": [
    "!git clone https://github.com/ultralytics/yolov5\n",
    "%cd \"yolov5\"\n",
    "%pip install -r requirements.txt"
   ]
  },
  {
   "cell_type": "code",
   "execution_count": 176,
   "id": "93b72db7",
   "metadata": {
    "cellId": "i2buzkj9md8l02a71fc4t"
   },
   "outputs": [
    {
     "name": "stdout",
     "output_type": "stream",
     "text": [
      "/home/jupyter/work/resources/yolov5\n"
     ]
    },
    {
     "data": {
      "text/plain": [
       "'/home/jupyter/work/resources/yolov5'"
      ]
     },
     "execution_count": 176,
     "metadata": {},
     "output_type": "execute_result"
    }
   ],
   "source": [
    "%cd \"yolov5\"\n",
    "sys.path.append('./')\n",
    "%pwd"
   ]
  },
  {
   "cell_type": "code",
   "execution_count": 179,
   "id": "9f0db98b",
   "metadata": {
    "cellId": "o122u79u9dbb8w2n0dq59",
    "execution_id": "7cef564d-3e71-4f93-8e4c-ba0444e3a3ee"
   },
   "outputs": [
    {
     "name": "stderr",
     "output_type": "stream",
     "text": [
      "\u001b[34m\u001b[1mtrain: \u001b[0mweights=yolov5m6.pt, cfg=, data=/home/jupyter/work/resources/trafic_signs.yaml, hyp=data/hyps/hyp.scratch-low.yaml, epochs=40, batch_size=-1, imgsz=1280, rect=False, resume=False, nosave=False, noval=False, noautoanchor=False, noplots=False, evolve=None, bucket=, cache=None, image_weights=False, device=, multi_scale=False, single_cls=False, optimizer=SGD, sync_bn=False, workers=8, project=project, name=yolov5m6, exist_ok=False, quad=False, cos_lr=False, label_smoothing=0.0, patience=100, freeze=[0], save_period=-1, seed=0, local_rank=-1, entity=None, upload_dataset=False, bbox_interval=-1, artifact_alias=latest\n",
      "\u001b[34m\u001b[1mgithub: \u001b[0mup to date with https://github.com/ultralytics/yolov5 ✅\n",
      "YOLOv5 🚀 v7.0-46-g96a71b1 Python-3.8.12 torch-1.9.1+cu111 CUDA:0 (Tesla V100-PCIE-32GB, 32510MiB)\n",
      "\n",
      "\u001b[34m\u001b[1mhyperparameters: \u001b[0mlr0=0.01, lrf=0.01, momentum=0.937, weight_decay=0.0005, warmup_epochs=3.0, warmup_momentum=0.8, warmup_bias_lr=0.1, box=0.05, cls=0.5, cls_pw=1.0, obj=1.0, obj_pw=1.0, iou_t=0.2, anchor_t=4.0, fl_gamma=0.0, hsv_h=0.015, hsv_s=0.7, hsv_v=0.4, degrees=0.0, translate=0.1, scale=0.5, shear=0.0, perspective=0.0, flipud=0.0, fliplr=0.5, mosaic=1.0, mixup=0.0, copy_paste=0.0\n",
      "\u001b[34m\u001b[1mClearML: \u001b[0mrun 'pip install clearml' to automatically track, visualize and remotely train YOLOv5 🚀 in ClearML\n",
      "\u001b[34m\u001b[1mComet: \u001b[0mrun 'pip install comet_ml' to automatically track and visualize YOLOv5 🚀 runs in Comet\n",
      "\u001b[34m\u001b[1mTensorBoard: \u001b[0mStart with 'tensorboard --logdir project', view at http://localhost:6006/\n",
      "Overriding model.yaml nc=80 with nc=155\n",
      "\n",
      "                 from  n    params  module                                  arguments                     \n",
      "  0                -1  1      5280  models.common.Conv                      [3, 48, 6, 2, 2]              \n",
      "  1                -1  1     41664  models.common.Conv                      [48, 96, 3, 2]                \n",
      "  2                -1  2     65280  models.common.C3                        [96, 96, 2]                   \n",
      "  3                -1  1    166272  models.common.Conv                      [96, 192, 3, 2]               \n",
      "  4                -1  4    444672  models.common.C3                        [192, 192, 4]                 \n",
      "  5                -1  1    664320  models.common.Conv                      [192, 384, 3, 2]              \n",
      "  6                -1  6   2512896  models.common.C3                        [384, 384, 6]                 \n",
      "  7                -1  1   1991808  models.common.Conv                      [384, 576, 3, 2]              \n",
      "  8                -1  2   2327040  models.common.C3                        [576, 576, 2]                 \n",
      "  9                -1  1   3982848  models.common.Conv                      [576, 768, 3, 2]              \n",
      " 10                -1  2   4134912  models.common.C3                        [768, 768, 2]                 \n",
      " 11                -1  1   1476864  models.common.SPPF                      [768, 768, 5]                 \n",
      " 12                -1  1    443520  models.common.Conv                      [768, 576, 1, 1]              \n",
      " 13                -1  1         0  torch.nn.modules.upsampling.Upsample    [None, 2, 'nearest']          \n",
      " 14           [-1, 8]  1         0  models.common.Concat                    [1]                           \n",
      " 15                -1  2   2658816  models.common.C3                        [1152, 576, 2, False]         \n",
      " 16                -1  1    221952  models.common.Conv                      [576, 384, 1, 1]              \n",
      " 17                -1  1         0  torch.nn.modules.upsampling.Upsample    [None, 2, 'nearest']          \n",
      " 18           [-1, 6]  1         0  models.common.Concat                    [1]                           \n",
      " 19                -1  2   1182720  models.common.C3                        [768, 384, 2, False]          \n",
      " 20                -1  1     74112  models.common.Conv                      [384, 192, 1, 1]              \n",
      " 21                -1  1         0  torch.nn.modules.upsampling.Upsample    [None, 2, 'nearest']          \n",
      " 22           [-1, 4]  1         0  models.common.Concat                    [1]                           \n",
      " 23                -1  2    296448  models.common.C3                        [384, 192, 2, False]          \n",
      " 24                -1  1    332160  models.common.Conv                      [192, 192, 3, 2]              \n",
      " 25          [-1, 20]  1         0  models.common.Concat                    [1]                           \n",
      " 26                -1  2   1035264  models.common.C3                        [384, 384, 2, False]          \n",
      " 27                -1  1   1327872  models.common.Conv                      [384, 384, 3, 2]              \n",
      " 28          [-1, 16]  1         0  models.common.Concat                    [1]                           \n",
      " 29                -1  2   2437632  models.common.C3                        [768, 576, 2, False]          \n",
      " 30                -1  1   2987136  models.common.Conv                      [576, 576, 3, 2]              \n",
      " 31          [-1, 12]  1         0  models.common.Concat                    [1]                           \n",
      " 32                -1  2   4429824  models.common.C3                        [1152, 768, 2, False]         \n",
      " 33  [23, 26, 29, 32]  1    923520  models.yolo.Detect                      [155, [[19, 27, 44, 40, 38, 94], [96, 68, 86, 152, 180, 137], [140, 301, 303, 264, 238, 542], [436, 615, 739, 380, 925, 792]], [192, 384, 576, 768]]\n",
      "Model summary: 379 layers, 36164832 parameters, 36164832 gradients, 51.3 GFLOPs\n",
      "\n",
      "Transferred 619/627 items from yolov5m6.pt\n",
      "\u001b[34m\u001b[1mAMP: \u001b[0mchecks passed ✅\n",
      "\u001b[34m\u001b[1mAutoBatch: \u001b[0mComputing optimal batch size for --imgsz 1280\n",
      "\u001b[34m\u001b[1mAutoBatch: \u001b[0mCUDA:0 (Tesla V100-PCIE-32GB) 31.75G total, 0.41G reserved, 0.28G allocated, 31.06G free\n",
      "\u001b[34m\u001b[1mAutoBatch: \u001b[0mUsing batch-size 17 for CUDA:0 24.75G/31.75G (78%) ✅\n",
      "\u001b[34m\u001b[1moptimizer:\u001b[0m SGD(lr=0.01) with parameter groups 103 weight(decay=0.0), 107 weight(decay=0.00053125), 107 bias\n",
      "\u001b[34m\u001b[1mtrain: \u001b[0mScanning /home/jupyter/work/resources/train_annotation/labels.cache... 54188 images, 0 backgrounds, 0 corrupt: 100%|██████████| 54188/54188 [00:00<?, ?it/s]\n",
      "\u001b[34m\u001b[1mval: \u001b[0mScanning /home/jupyter/work/resources/test_annotation/labels.cache... 5000 images, 0 backgrounds, 0 corrupt: 100%|██████████| 5000/5000 [00:00<?, ?it/s]\n",
      "\n",
      "\u001b[34m\u001b[1mAutoAnchor: \u001b[0m3.85 anchors/target, 1.000 Best Possible Recall (BPR). Current anchors are a good fit to dataset ✅\n",
      "Plotting labels to project/yolov5m66/labels.jpg... \n",
      "Image sizes 1280 train, 1280 val\n",
      "Using 8 dataloader workers\n",
      "Logging results to \u001b[1mproject/yolov5m66\u001b[0m\n",
      "Starting training for 40 epochs...\n",
      "\n",
      "      Epoch    GPU_mem   box_loss   obj_loss   cls_loss  Instances       Size\n",
      "       0/39      27.2G    0.08933    0.08188    0.08374         46       1280:   0%|          | 4/3188 [00:10<1:41:23,  1.91s/it]train.py:321: FutureWarning: Non-finite norm encountered in torch.nn.utils.clip_grad_norm_; continuing anyway. Note that the default behavior will change in a future release to error out if a non-finite total norm is encountered. At that point, setting error_if_nonfinite=false will be required to retain the old behavior.\n",
      "  torch.nn.utils.clip_grad_norm_(model.parameters(), max_norm=10.0)  # clip gradients\n",
      "       0/39      27.2G    0.09402    0.06427    0.08997         51       1280:   1%|          | 22/3188 [00:22<36:48,  1.43it/s]train.py:321: FutureWarning: Non-finite norm encountered in torch.nn.utils.clip_grad_norm_; continuing anyway. Note that the default behavior will change in a future release to error out if a non-finite total norm is encountered. At that point, setting error_if_nonfinite=false will be required to retain the old behavior.\n",
      "  torch.nn.utils.clip_grad_norm_(model.parameters(), max_norm=10.0)  # clip gradients\n",
      "       0/39      27.2G    0.07289    0.03001    0.08484         50       1280:   7%|▋         | 235/3188 [02:51<34:07,  1.44it/s]train.py:321: FutureWarning: Non-finite norm encountered in torch.nn.utils.clip_grad_norm_; continuing anyway. Note that the default behavior will change in a future release to error out if a non-finite total norm is encountered. At that point, setting error_if_nonfinite=false will be required to retain the old behavior.\n",
      "  torch.nn.utils.clip_grad_norm_(model.parameters(), max_norm=10.0)  # clip gradients\n",
      "       0/39      27.2G    0.03257     0.0117    0.05986         48       1280: 100%|██████████| 3188/3188 [36:21<00:00,  1.46it/s]\n",
      "                 Class     Images  Instances          P          R      mAP50   mAP50-95: 100%|██████████| 148/148 [01:09<00:00,  2.13it/s]\n",
      "                   all       5000       8866      0.957     0.0532      0.065     0.0425\n",
      "\n",
      "      Epoch    GPU_mem   box_loss   obj_loss   cls_loss  Instances       Size\n",
      "       1/39      28.5G    0.02837   0.006183    0.03662         32       1280: 100%|██████████| 3188/3188 [35:01<00:00,  1.52it/s]\n",
      "                 Class     Images  Instances          P          R      mAP50   mAP50-95: 100%|██████████| 148/148 [01:08<00:00,  2.16it/s]\n",
      "                   all       5000       8866      0.906      0.158      0.178      0.123\n",
      "\n",
      "      Epoch    GPU_mem   box_loss   obj_loss   cls_loss  Instances       Size\n",
      "       2/39      28.5G    0.02732   0.005946    0.02908         66       1280:  47%|████▋     | 1505/3188 [16:19<18:06,  1.55it/s]train.py:321: FutureWarning: Non-finite norm encountered in torch.nn.utils.clip_grad_norm_; continuing anyway. Note that the default behavior will change in a future release to error out if a non-finite total norm is encountered. At that point, setting error_if_nonfinite=false will be required to retain the old behavior.\n",
      "  torch.nn.utils.clip_grad_norm_(model.parameters(), max_norm=10.0)  # clip gradients\n",
      "       2/39      28.5G    0.02683   0.006048    0.02788         22       1280: 100%|██████████| 3188/3188 [34:30<00:00,  1.54it/s]\n",
      "                 Class     Images  Instances          P          R      mAP50   mAP50-95: 100%|██████████| 148/148 [01:08<00:00,  2.17it/s]\n",
      "                   all       5000       8866      0.914      0.216      0.251      0.172\n",
      "\n",
      "      Epoch    GPU_mem   box_loss   obj_loss   cls_loss  Instances       Size\n",
      "       3/39      28.5G    0.02422   0.006099    0.02418         32       1280: 100%|██████████| 3188/3188 [34:18<00:00,  1.55it/s]\n",
      "                 Class     Images  Instances          P          R      mAP50   mAP50-95: 100%|██████████| 148/148 [01:07<00:00,  2.18it/s]\n",
      "                   all       5000       8866      0.788      0.315      0.332      0.239\n",
      "\n",
      "      Epoch    GPU_mem   box_loss   obj_loss   cls_loss  Instances       Size\n",
      "       4/39      28.5G    0.02247   0.005751    0.02075         30       1280: 100%|██████████| 3188/3188 [34:17<00:00,  1.55it/s]\n",
      "                 Class     Images  Instances          P          R      mAP50   mAP50-95: 100%|██████████| 148/148 [01:07<00:00,  2.21it/s]\n",
      "                   all       5000       8866      0.769      0.407      0.398      0.289\n",
      "\n",
      "      Epoch    GPU_mem   box_loss   obj_loss   cls_loss  Instances       Size\n",
      "       5/39      28.5G    0.02128   0.005553    0.01897         25       1280: 100%|██████████| 3188/3188 [34:17<00:00,  1.55it/s]\n",
      "                 Class     Images  Instances          P          R      mAP50   mAP50-95: 100%|██████████| 148/148 [01:07<00:00,  2.18it/s]\n",
      "                   all       5000       8866      0.771      0.425      0.445      0.324\n",
      "\n",
      "      Epoch    GPU_mem   box_loss   obj_loss   cls_loss  Instances       Size\n",
      "       6/39      28.5G    0.02088    0.00543    0.01765         27       1280: 100%|██████████| 3188/3188 [34:17<00:00,  1.55it/s]\n",
      "                 Class     Images  Instances          P          R      mAP50   mAP50-95: 100%|██████████| 148/148 [01:07<00:00,  2.19it/s]\n",
      "                   all       5000       8866       0.82      0.436      0.478      0.353\n",
      "\n",
      "      Epoch    GPU_mem   box_loss   obj_loss   cls_loss  Instances       Size\n",
      "       7/39      28.5G    0.02062   0.005318    0.01699         54       1280:  42%|████▏     | 1326/3188 [14:16<19:45,  1.57it/s]train.py:321: FutureWarning: Non-finite norm encountered in torch.nn.utils.clip_grad_norm_; continuing anyway. Note that the default behavior will change in a future release to error out if a non-finite total norm is encountered. At that point, setting error_if_nonfinite=false will be required to retain the old behavior.\n",
      "  torch.nn.utils.clip_grad_norm_(model.parameters(), max_norm=10.0)  # clip gradients\n",
      "       7/39      28.5G    0.02034    0.00529     0.0164         35       1280: 100%|██████████| 3188/3188 [34:18<00:00,  1.55it/s]\n",
      "                 Class     Images  Instances          P          R      mAP50   mAP50-95: 100%|██████████| 148/148 [01:07<00:00,  2.20it/s]\n",
      "                   all       5000       8866      0.814      0.473      0.528      0.389\n",
      "\n",
      "      Epoch    GPU_mem   box_loss   obj_loss   cls_loss  Instances       Size\n",
      "       8/39      28.5G    0.01999    0.00518    0.01536         34       1280: 100%|██████████| 3188/3188 [34:18<00:00,  1.55it/s]\n",
      "                 Class     Images  Instances          P          R      mAP50   mAP50-95: 100%|██████████| 148/148 [01:07<00:00,  2.19it/s]\n",
      "                   all       5000       8866      0.791      0.517      0.561      0.417\n",
      "\n",
      "      Epoch    GPU_mem   box_loss   obj_loss   cls_loss  Instances       Size\n",
      "       9/39      28.5G     0.0199   0.005127    0.01579         50       1280:  34%|███▍      | 1082/3188 [11:38<22:24,  1.57it/s]train.py:321: FutureWarning: Non-finite norm encountered in torch.nn.utils.clip_grad_norm_; continuing anyway. Note that the default behavior will change in a future release to error out if a non-finite total norm is encountered. At that point, setting error_if_nonfinite=false will be required to retain the old behavior.\n",
      "  torch.nn.utils.clip_grad_norm_(model.parameters(), max_norm=10.0)  # clip gradients\n",
      "       9/39      28.5G    0.01977   0.005154    0.01562         41       1280:  73%|███████▎  | 2318/3188 [24:56<09:20,  1.55it/s]train.py:321: FutureWarning: Non-finite norm encountered in torch.nn.utils.clip_grad_norm_; continuing anyway. Note that the default behavior will change in a future release to error out if a non-finite total norm is encountered. At that point, setting error_if_nonfinite=false will be required to retain the old behavior.\n",
      "  torch.nn.utils.clip_grad_norm_(model.parameters(), max_norm=10.0)  # clip gradients\n",
      "       9/39      28.5G    0.01975   0.005157    0.01542         23       1280: 100%|██████████| 3188/3188 [34:18<00:00,  1.55it/s]\n",
      "                 Class     Images  Instances          P          R      mAP50   mAP50-95: 100%|██████████| 148/148 [01:07<00:00,  2.19it/s]\n",
      "                   all       5000       8866      0.812      0.549      0.584      0.433\n",
      "\n",
      "      Epoch    GPU_mem   box_loss   obj_loss   cls_loss  Instances       Size\n",
      "      10/39      28.5G    0.01983   0.005054    0.01407         32       1280: 100%|██████████| 3188/3188 [34:17<00:00,  1.55it/s]\n",
      "                 Class     Images  Instances          P          R      mAP50   mAP50-95: 100%|██████████| 148/148 [01:07<00:00,  2.20it/s]\n",
      "                   all       5000       8866      0.815      0.555        0.6      0.448\n",
      "\n",
      "      Epoch    GPU_mem   box_loss   obj_loss   cls_loss  Instances       Size\n",
      "      11/39      28.5G    0.01955   0.005022    0.01368         19       1280: 100%|██████████| 3188/3188 [34:17<00:00,  1.55it/s]\n",
      "                 Class     Images  Instances          P          R      mAP50   mAP50-95: 100%|██████████| 148/148 [01:07<00:00,  2.20it/s]\n",
      "                   all       5000       8866      0.815      0.542      0.616      0.464\n",
      "\n",
      "      Epoch    GPU_mem   box_loss   obj_loss   cls_loss  Instances       Size\n",
      "      12/39      28.5G    0.01957   0.004967    0.01308         27       1280: 100%|██████████| 3188/3188 [34:18<00:00,  1.55it/s]\n",
      "                 Class     Images  Instances          P          R      mAP50   mAP50-95: 100%|██████████| 148/148 [01:07<00:00,  2.20it/s]\n",
      "                   all       5000       8866      0.823       0.56       0.63      0.475\n",
      "\n",
      "      Epoch    GPU_mem   box_loss   obj_loss   cls_loss  Instances       Size\n",
      "      13/39      28.5G    0.01935   0.004898    0.01253         27       1280: 100%|██████████| 3188/3188 [34:18<00:00,  1.55it/s]\n",
      "                 Class     Images  Instances          P          R      mAP50   mAP50-95: 100%|██████████| 148/148 [01:06<00:00,  2.22it/s]\n",
      "                   all       5000       8866       0.82      0.581      0.647      0.488\n",
      "\n",
      "      Epoch    GPU_mem   box_loss   obj_loss   cls_loss  Instances       Size\n",
      "      14/39      28.5G    0.01901   0.004853    0.01226         19       1280: 100%|██████████| 3188/3188 [34:19<00:00,  1.55it/s]\n",
      "                 Class     Images  Instances          P          R      mAP50   mAP50-95: 100%|██████████| 148/148 [01:06<00:00,  2.21it/s]\n",
      "                   all       5000       8866      0.805      0.603      0.663        0.5\n",
      "\n",
      "      Epoch    GPU_mem   box_loss   obj_loss   cls_loss  Instances       Size\n",
      "      15/39      28.5G    0.01907   0.004824    0.01172         21       1280: 100%|██████████| 3188/3188 [34:18<00:00,  1.55it/s]\n",
      "                 Class     Images  Instances          P          R      mAP50   mAP50-95: 100%|██████████| 148/148 [01:07<00:00,  2.20it/s]\n",
      "                   all       5000       8866      0.754      0.653      0.675      0.511\n",
      "\n",
      "      Epoch    GPU_mem   box_loss   obj_loss   cls_loss  Instances       Size\n",
      "      16/39      28.5G    0.01876   0.004813    0.01132         24       1280: 100%|██████████| 3188/3188 [34:17<00:00,  1.55it/s]\n",
      "                 Class     Images  Instances          P          R      mAP50   mAP50-95: 100%|██████████| 148/148 [01:07<00:00,  2.21it/s]\n",
      "                   all       5000       8866      0.773      0.647      0.681      0.515\n",
      "\n",
      "      Epoch    GPU_mem   box_loss   obj_loss   cls_loss  Instances       Size\n",
      "      17/39      28.5G    0.01832   0.004898    0.01105         52       1280:  26%|██▌       | 822/3188 [08:50<25:11,  1.57it/s]train.py:321: FutureWarning: Non-finite norm encountered in torch.nn.utils.clip_grad_norm_; continuing anyway. Note that the default behavior will change in a future release to error out if a non-finite total norm is encountered. At that point, setting error_if_nonfinite=false will be required to retain the old behavior.\n",
      "  torch.nn.utils.clip_grad_norm_(model.parameters(), max_norm=10.0)  # clip gradients\n",
      "      17/39      28.5G    0.01845    0.00483    0.01088         60       1280:  85%|████████▍ | 2706/3188 [29:06<05:08,  1.56it/s]train.py:321: FutureWarning: Non-finite norm encountered in torch.nn.utils.clip_grad_norm_; continuing anyway. Note that the default behavior will change in a future release to error out if a non-finite total norm is encountered. At that point, setting error_if_nonfinite=false will be required to retain the old behavior.\n",
      "  torch.nn.utils.clip_grad_norm_(model.parameters(), max_norm=10.0)  # clip gradients\n",
      "      17/39      28.5G    0.01856   0.004828    0.01083         31       1280: 100%|██████████| 3188/3188 [34:17<00:00,  1.55it/s]\n",
      "                 Class     Images  Instances          P          R      mAP50   mAP50-95: 100%|██████████| 148/148 [01:07<00:00,  2.20it/s]\n",
      "                   all       5000       8866       0.78      0.648      0.686       0.52\n",
      "\n",
      "      Epoch    GPU_mem   box_loss   obj_loss   cls_loss  Instances       Size\n",
      "      18/39      28.5G    0.01839   0.004744    0.01053         22       1280: 100%|██████████| 3188/3188 [34:17<00:00,  1.55it/s]\n",
      "                 Class     Images  Instances          P          R      mAP50   mAP50-95: 100%|██████████| 148/148 [01:07<00:00,  2.19it/s]\n",
      "                   all       5000       8866      0.808      0.636      0.687      0.521\n",
      "\n",
      "      Epoch    GPU_mem   box_loss   obj_loss   cls_loss  Instances       Size\n",
      "      19/39      28.5G    0.01819    0.00469    0.01007         25       1280: 100%|██████████| 3188/3188 [34:18<00:00,  1.55it/s]\n",
      "                 Class     Images  Instances          P          R      mAP50   mAP50-95: 100%|██████████| 148/148 [01:07<00:00,  2.21it/s]\n",
      "                   all       5000       8866      0.804      0.647       0.69      0.524\n",
      "\n",
      "      Epoch    GPU_mem   box_loss   obj_loss   cls_loss  Instances       Size\n",
      "      20/39      28.5G    0.01826   0.004703    0.01017         17       1280: 100%|██████████| 3188/3188 [34:18<00:00,  1.55it/s]\n",
      "                 Class     Images  Instances          P          R      mAP50   mAP50-95: 100%|██████████| 148/148 [01:07<00:00,  2.20it/s]\n",
      "                   all       5000       8866      0.805      0.653      0.698      0.531\n",
      "\n",
      "      Epoch    GPU_mem   box_loss   obj_loss   cls_loss  Instances       Size\n",
      "      21/39      28.5G    0.01773   0.004642   0.009366         16       1280: 100%|██████████| 3188/3188 [34:17<00:00,  1.55it/s]\n",
      "                 Class     Images  Instances          P          R      mAP50   mAP50-95: 100%|██████████| 148/148 [01:07<00:00,  2.20it/s]\n",
      "                   all       5000       8866      0.808      0.657      0.705      0.537\n",
      "\n",
      "      Epoch    GPU_mem   box_loss   obj_loss   cls_loss  Instances       Size\n",
      "      22/39      28.5G    0.01771   0.004606   0.009432         44       1280:  87%|████████▋ | 2782/3188 [29:56<04:16,  1.58it/s]train.py:321: FutureWarning: Non-finite norm encountered in torch.nn.utils.clip_grad_norm_; continuing anyway. Note that the default behavior will change in a future release to error out if a non-finite total norm is encountered. At that point, setting error_if_nonfinite=false will be required to retain the old behavior.\n",
      "  torch.nn.utils.clip_grad_norm_(model.parameters(), max_norm=10.0)  # clip gradients\n",
      "      22/39      28.5G    0.01775   0.004621   0.009443         32       1280: 100%|██████████| 3188/3188 [34:18<00:00,  1.55it/s]\n",
      "                 Class     Images  Instances          P          R      mAP50   mAP50-95: 100%|██████████| 148/148 [01:07<00:00,  2.19it/s]\n",
      "                   all       5000       8866      0.793      0.674       0.71      0.542\n",
      "\n",
      "      Epoch    GPU_mem   box_loss   obj_loss   cls_loss  Instances       Size\n",
      "      23/39      28.5G    0.01759   0.004595   0.009354         27       1280: 100%|██████████| 3188/3188 [34:18<00:00,  1.55it/s]\n",
      "                 Class     Images  Instances          P          R      mAP50   mAP50-95: 100%|██████████| 148/148 [01:07<00:00,  2.20it/s]\n",
      "                   all       5000       8866      0.802      0.672      0.719      0.549\n",
      "\n",
      "      Epoch    GPU_mem   box_loss   obj_loss   cls_loss  Instances       Size\n",
      "      24/39      28.5G    0.01736   0.004549   0.009014         61       1280:  92%|█████████▏| 2942/3188 [31:39<02:36,  1.57it/s]train.py:321: FutureWarning: Non-finite norm encountered in torch.nn.utils.clip_grad_norm_; continuing anyway. Note that the default behavior will change in a future release to error out if a non-finite total norm is encountered. At that point, setting error_if_nonfinite=false will be required to retain the old behavior.\n",
      "  torch.nn.utils.clip_grad_norm_(model.parameters(), max_norm=10.0)  # clip gradients\n",
      "      24/39      28.5G    0.01738   0.004552   0.009039         27       1280: 100%|██████████| 3188/3188 [34:18<00:00,  1.55it/s]\n",
      "                 Class     Images  Instances          P          R      mAP50   mAP50-95: 100%|██████████| 148/148 [01:06<00:00,  2.22it/s]\n",
      "                   all       5000       8866      0.791       0.68      0.725      0.555\n",
      "\n",
      "      Epoch    GPU_mem   box_loss   obj_loss   cls_loss  Instances       Size\n",
      "      25/39      28.5G    0.01711   0.004528   0.008533         27       1280: 100%|██████████| 3188/3188 [34:18<00:00,  1.55it/s]\n",
      "                 Class     Images  Instances          P          R      mAP50   mAP50-95: 100%|██████████| 148/148 [01:06<00:00,  2.22it/s]\n",
      "                   all       5000       8866       0.79      0.685      0.731       0.56\n",
      "\n",
      "      Epoch    GPU_mem   box_loss   obj_loss   cls_loss  Instances       Size\n",
      "      26/39      28.5G    0.01699   0.004488   0.008551         49       1280:  50%|█████     | 1602/3188 [17:14<16:48,  1.57it/s]train.py:321: FutureWarning: Non-finite norm encountered in torch.nn.utils.clip_grad_norm_; continuing anyway. Note that the default behavior will change in a future release to error out if a non-finite total norm is encountered. At that point, setting error_if_nonfinite=false will be required to retain the old behavior.\n",
      "  torch.nn.utils.clip_grad_norm_(model.parameters(), max_norm=10.0)  # clip gradients\n",
      "      26/39      28.5G    0.01702   0.004475   0.008382         25       1280: 100%|██████████| 3188/3188 [34:17<00:00,  1.55it/s]\n",
      "                 Class     Images  Instances          P          R      mAP50   mAP50-95: 100%|██████████| 148/148 [01:07<00:00,  2.20it/s]\n",
      "                   all       5000       8866      0.791      0.686      0.738      0.566\n",
      "\n",
      "      Epoch    GPU_mem   box_loss   obj_loss   cls_loss  Instances       Size\n",
      "      27/39      28.5G     0.0168   0.004484   0.008456         20       1280: 100%|██████████| 3188/3188 [34:18<00:00,  1.55it/s]\n",
      "                 Class     Images  Instances          P          R      mAP50   mAP50-95: 100%|██████████| 148/148 [01:06<00:00,  2.21it/s]\n",
      "                   all       5000       8866      0.802      0.691      0.741      0.569\n",
      "\n",
      "      Epoch    GPU_mem   box_loss   obj_loss   cls_loss  Instances       Size\n",
      "      28/39      28.5G    0.01632   0.004413   0.007783         22       1280: 100%|██████████| 3188/3188 [34:18<00:00,  1.55it/s]\n",
      "                 Class     Images  Instances          P          R      mAP50   mAP50-95: 100%|██████████| 148/148 [01:06<00:00,  2.22it/s]\n",
      "                   all       5000       8866       0.81      0.698      0.747      0.574\n",
      "\n",
      "      Epoch    GPU_mem   box_loss   obj_loss   cls_loss  Instances       Size\n",
      "      29/39      28.5G    0.01624    0.00441   0.007538         33       1280: 100%|██████████| 3188/3188 [34:19<00:00,  1.55it/s]\n",
      "                 Class     Images  Instances          P          R      mAP50   mAP50-95: 100%|██████████| 148/148 [01:06<00:00,  2.21it/s]\n",
      "                   all       5000       8866       0.82      0.698      0.755       0.58\n",
      "\n",
      "      Epoch    GPU_mem   box_loss   obj_loss   cls_loss  Instances       Size\n",
      "      30/39      28.5G    0.01586   0.004328   0.007373         48       1280: 100%|██████████| 3188/3188 [34:18<00:00,  1.55it/s]\n",
      "                 Class     Images  Instances          P          R      mAP50   mAP50-95: 100%|██████████| 148/148 [01:06<00:00,  2.23it/s]\n",
      "                   all       5000       8866      0.828      0.699       0.76      0.585\n",
      "\n",
      "      Epoch    GPU_mem   box_loss   obj_loss   cls_loss  Instances       Size\n",
      "      31/39      28.5G     0.0154    0.00431   0.006972         35       1280: 100%|██████████| 3188/3188 [34:17<00:00,  1.55it/s]\n",
      "                 Class     Images  Instances          P          R      mAP50   mAP50-95: 100%|██████████| 148/148 [01:07<00:00,  2.20it/s]\n",
      "                   all       5000       8866      0.832      0.703      0.766      0.591\n",
      "\n",
      "      Epoch    GPU_mem   box_loss   obj_loss   cls_loss  Instances       Size\n",
      "      32/39      28.5G    0.01507   0.004273   0.006838         46       1280:  64%|██████▍   | 2054/3188 [22:06<11:59,  1.58it/s]train.py:321: FutureWarning: Non-finite norm encountered in torch.nn.utils.clip_grad_norm_; continuing anyway. Note that the default behavior will change in a future release to error out if a non-finite total norm is encountered. At that point, setting error_if_nonfinite=false will be required to retain the old behavior.\n",
      "  torch.nn.utils.clip_grad_norm_(model.parameters(), max_norm=10.0)  # clip gradients\n",
      "      32/39      28.5G    0.01517   0.004281   0.006939         16       1280: 100%|██████████| 3188/3188 [34:18<00:00,  1.55it/s]\n",
      "                 Class     Images  Instances          P          R      mAP50   mAP50-95: 100%|██████████| 148/148 [01:07<00:00,  2.19it/s]\n",
      "                   all       5000       8866      0.836      0.707      0.774      0.597\n",
      "\n",
      "      Epoch    GPU_mem   box_loss   obj_loss   cls_loss  Instances       Size\n",
      "      33/39      28.5G    0.01491   0.004246   0.006583         21       1280: 100%|██████████| 3188/3188 [34:18<00:00,  1.55it/s]\n",
      "                 Class     Images  Instances          P          R      mAP50   mAP50-95: 100%|██████████| 148/148 [01:08<00:00,  2.17it/s]\n",
      "                   all       5000       8866      0.844      0.704      0.775      0.598\n",
      "\n",
      "      Epoch    GPU_mem   box_loss   obj_loss   cls_loss  Instances       Size\n",
      "      34/39      28.5G    0.01452   0.004179   0.006439         20       1280: 100%|██████████| 3188/3188 [34:20<00:00,  1.55it/s]\n",
      "                 Class     Images  Instances          P          R      mAP50   mAP50-95: 100%|██████████| 148/148 [01:07<00:00,  2.20it/s]\n",
      "                   all       5000       8866      0.844      0.703      0.787      0.608\n",
      "\n",
      "      Epoch    GPU_mem   box_loss   obj_loss   cls_loss  Instances       Size\n",
      "      35/39      28.5G    0.01419   0.004179   0.006194         55       1280:  39%|███▉      | 1250/3188 [13:27<20:44,  1.56it/s]train.py:321: FutureWarning: Non-finite norm encountered in torch.nn.utils.clip_grad_norm_; continuing anyway. Note that the default behavior will change in a future release to error out if a non-finite total norm is encountered. At that point, setting error_if_nonfinite=false will be required to retain the old behavior.\n",
      "  torch.nn.utils.clip_grad_norm_(model.parameters(), max_norm=10.0)  # clip gradients\n",
      "      35/39      28.5G    0.01413   0.004159   0.006024         25       1280: 100%|██████████| 3188/3188 [34:19<00:00,  1.55it/s]\n",
      "                 Class     Images  Instances          P          R      mAP50   mAP50-95: 100%|██████████| 148/148 [01:07<00:00,  2.20it/s]\n",
      "                   all       5000       8866        0.8      0.734      0.792      0.612\n",
      "\n",
      "      Epoch    GPU_mem   box_loss   obj_loss   cls_loss  Instances       Size\n",
      "      36/39      28.5G    0.01359   0.004104   0.005673         22       1280: 100%|██████████| 3188/3188 [34:18<00:00,  1.55it/s]\n",
      "                 Class     Images  Instances          P          R      mAP50   mAP50-95: 100%|██████████| 148/148 [01:07<00:00,  2.21it/s]\n",
      "                   all       5000       8866       0.78       0.76      0.798      0.617\n",
      "\n",
      "      Epoch    GPU_mem   box_loss   obj_loss   cls_loss  Instances       Size\n",
      "      37/39      28.5G     0.0132   0.004073   0.005713         30       1280: 100%|██████████| 3188/3188 [34:19<00:00,  1.55it/s]\n",
      "                 Class     Images  Instances          P          R      mAP50   mAP50-95: 100%|██████████| 148/148 [01:07<00:00,  2.19it/s]\n",
      "                   all       5000       8866      0.797      0.762      0.807      0.624\n",
      "\n",
      "      Epoch    GPU_mem   box_loss   obj_loss   cls_loss  Instances       Size\n",
      "      38/39      28.5G    0.01271   0.004061   0.005163         56       1280:  67%|██████▋   | 2122/3188 [22:50<11:20,  1.57it/s]train.py:321: FutureWarning: Non-finite norm encountered in torch.nn.utils.clip_grad_norm_; continuing anyway. Note that the default behavior will change in a future release to error out if a non-finite total norm is encountered. At that point, setting error_if_nonfinite=false will be required to retain the old behavior.\n",
      "  torch.nn.utils.clip_grad_norm_(model.parameters(), max_norm=10.0)  # clip gradients\n",
      "      38/39      28.5G    0.01275   0.004049   0.005127         48       1280: 100%|██████████| 3188/3188 [34:19<00:00,  1.55it/s]\n",
      "                 Class     Images  Instances          P          R      mAP50   mAP50-95: 100%|██████████| 148/148 [01:06<00:00,  2.22it/s]\n",
      "                   all       5000       8866      0.803       0.76      0.812      0.629\n",
      "\n",
      "      Epoch    GPU_mem   box_loss   obj_loss   cls_loss  Instances       Size\n",
      "      39/39      28.5G    0.01211   0.003975   0.005069         26       1280: 100%|██████████| 3188/3188 [34:19<00:00,  1.55it/s]\n",
      "                 Class     Images  Instances          P          R      mAP50   mAP50-95: 100%|██████████| 148/148 [01:07<00:00,  2.19it/s]\n",
      "                   all       5000       8866      0.804      0.761      0.815      0.631\n",
      "\n",
      "40 epochs completed in 23.786 hours.\n",
      "Optimizer stripped from project/yolov5m66/weights/last.pt, 73.2MB\n",
      "Optimizer stripped from project/yolov5m66/weights/best.pt, 73.2MB\n",
      "\n",
      "Validating project/yolov5m66/weights/best.pt...\n",
      "Fusing layers... \n",
      "Model summary: 276 layers, 36137808 parameters, 0 gradients, 50.9 GFLOPs\n",
      "                 Class     Images  Instances          P          R      mAP50   mAP50-95: 100%|██████████| 148/148 [01:16<00:00,  1.95it/s]\n",
      "                   all       5000       8866      0.804      0.761      0.815      0.631\n",
      "                   2_1       5000        934      0.913      0.993      0.989      0.795\n",
      "                  1_23       5000        229      0.893          1      0.989      0.782\n",
      "                  1_17       5000        107      0.914      0.987      0.992      0.746\n",
      "                  3_24       5000        343      0.839      0.994      0.981      0.774\n",
      "                 8_2_1       5000         74       0.62      0.986      0.871      0.678\n",
      "                  5_20       5000        154      0.859      0.994      0.977      0.771\n",
      "                5_19_1       5000       2117      0.855      0.987      0.974      0.744\n",
      "                  5_16       5000        445      0.862      0.987      0.984      0.723\n",
      "                  3_25       5000         10      0.882          1      0.986      0.776\n",
      "                  6_16       5000         97      0.818      0.979      0.947      0.705\n",
      "                  7_15       5000          3          1          0      0.249      0.204\n",
      "                   2_2       5000         47      0.866      0.957      0.966        0.8\n",
      "                   2_4       5000        340      0.898      0.985       0.99      0.775\n",
      "                8_13_1       5000         14      0.755          1      0.957      0.705\n",
      "                 4_2_1       5000        120      0.836      0.992      0.921      0.685\n",
      "                1_20_3       5000         11      0.976      0.273      0.692      0.515\n",
      "                  1_25       5000         89      0.828          1       0.98      0.757\n",
      "                   3_4       5000          1          1          0      0.497      0.398\n",
      "                 8_3_2       5000          5      0.419        0.4      0.421      0.278\n",
      "                 3_4_1       5000         50       0.81          1      0.986      0.746\n",
      "                 4_1_6       5000         11      0.801          1      0.995      0.793\n",
      "                 4_2_3       5000         76      0.937      0.982      0.989      0.748\n",
      "                 4_1_1       5000        196      0.891      0.995      0.986      0.768\n",
      "                  1_33       5000          5      0.803          1      0.995      0.827\n",
      "                5_15_5       5000        108      0.957      0.991      0.992      0.768\n",
      "                  3_27       5000        290      0.865      0.997      0.984      0.777\n",
      "                  1_15       5000         12      0.687          1      0.925      0.736\n",
      "               4_1_2_1       5000         14      0.783      0.929      0.934      0.641\n",
      "                 6_3_1       5000         20       0.88          1      0.995      0.754\n",
      "                 8_1_1       5000         13      0.468          1      0.866      0.664\n",
      "                   6_7       5000          9       0.65          1      0.975      0.805\n",
      "                5_15_3       5000        144      0.906      0.993       0.99      0.783\n",
      "                   7_3       5000         93      0.937          1      0.993      0.778\n",
      "                  1_19       5000          5      0.787        0.8      0.938      0.752\n",
      "                   6_4       5000         96      0.864      0.979      0.978      0.739\n",
      "                 8_1_4       5000          2          1          0      0.097     0.0751\n",
      "                   8_8       5000          5          1          0      0.555      0.456\n",
      "                  1_16       5000         31      0.825          1      0.972      0.749\n",
      "                1_11_1       5000         36      0.483      0.972       0.56      0.408\n",
      "                   6_6       5000         67       0.84          1      0.984      0.727\n",
      "                5_15_1       5000        131      0.914      0.969      0.986      0.793\n",
      "                   7_2       5000         15      0.656          1      0.995      0.849\n",
      "                5_15_2       5000        440      0.891      0.993      0.988       0.76\n",
      "                  7_12       5000          7      0.616          1      0.995      0.808\n",
      "                  3_18       5000         20      0.764       0.95      0.961      0.709\n",
      "                   5_6       5000         60      0.944          1      0.987      0.787\n",
      "                   5_5       5000         81      0.868          1       0.99       0.76\n",
      "                   7_4       5000         11      0.729          1       0.98       0.81\n",
      "                 4_1_2       5000         44      0.813      0.977      0.955      0.706\n",
      "                 8_2_2       5000         16      0.894      0.938      0.974      0.778\n",
      "                  7_11       5000         12      0.698      0.964      0.971      0.809\n",
      "                  1_22       5000         77      0.845          1      0.987      0.758\n",
      "                  1_27       5000          7      0.821      0.857        0.9      0.748\n",
      "                 2_3_2       5000         85      0.554      0.988      0.798      0.581\n",
      "              5_15_2_2       5000        116      0.906          1      0.984      0.834\n",
      "                   1_8       5000         27      0.938          1      0.993        0.7\n",
      "                  3_13       5000         21      0.717          1      0.985      0.793\n",
      "                   2_3       5000         22      0.727          1      0.985      0.801\n",
      "                 2_3_3       5000         58      0.455      0.931      0.675      0.517\n",
      "                   7_7       5000         14       0.95          1      0.995      0.817\n",
      "                  1_11       5000         35      0.471      0.971      0.567      0.395\n",
      "                  8_13       5000         47      0.789          1      0.983      0.771\n",
      "                1_12_2       5000         16      0.431          1      0.772      0.644\n",
      "                  1_20       5000         12      0.974          1      0.995      0.762\n",
      "                  1_12       5000         20      0.533          1       0.54      0.396\n",
      "                  3_32       5000          7      0.903          1      0.995      0.832\n",
      "                   2_5       5000         49      0.887          1      0.994      0.821\n",
      "                   3_1       5000         86      0.694      0.942        0.9      0.637\n",
      "                 4_8_2       5000          5      0.687          1      0.895      0.726\n",
      "                  3_20       5000        142      0.919          1      0.993      0.774\n",
      "                   3_2       5000         15      0.893      0.933      0.988      0.723\n",
      "                 2_3_6       5000          1          1          0      0.111     0.0995\n",
      "                  5_18       5000          3          1          0      0.111     0.0875\n",
      "                   7_5       5000         30      0.797          1      0.989      0.807\n",
      "                 8_4_1       5000          5      0.436        0.8      0.719        0.5\n",
      "                  3_14       5000          3          1          0      0.913      0.821\n",
      "                   1_2       5000         32      0.841          1      0.992      0.792\n",
      "                1_20_2       5000         37      0.598          1      0.897      0.688\n",
      "                 4_1_4       5000        103      0.828       0.99      0.972      0.777\n",
      "                   7_6       5000          5      0.917        0.8      0.862      0.713\n",
      "                 8_1_3       5000          4          1          0     0.0951     0.0692\n",
      "                 8_3_1       5000         16      0.555      0.938      0.733      0.495\n",
      "                   4_3       5000         16      0.884      0.938      0.978      0.745\n",
      "                 4_1_5       5000         16       0.87      0.875      0.895      0.744\n",
      "                 8_2_3       5000          7      0.501      0.714      0.795      0.584\n",
      "                 8_2_4       5000          8      0.604       0.75       0.79      0.653\n",
      "                  1_31       5000          3          1          0      0.271      0.229\n",
      "                  3_10       5000          3      0.692          1      0.995       0.73\n",
      "                 4_2_2       5000         41      0.805      0.951      0.974       0.72\n",
      "                   7_1       5000          5      0.878          1      0.995      0.706\n",
      "                  3_28       5000         34      0.931      0.941      0.958       0.72\n",
      "                 4_1_3       5000          7      0.871      0.857      0.894      0.761\n",
      "                   5_3       5000          4       0.84          1      0.995      0.752\n",
      "                  3_31       5000         15      0.952      0.933      0.964      0.815\n",
      "                   6_2       5000         13      0.825          1      0.958      0.733\n",
      "                  1_21       5000          7        0.7      0.857      0.845      0.563\n",
      "                  3_21       5000         45      0.919          1      0.995      0.799\n",
      "                  1_13       5000          6      0.373      0.833      0.398      0.308\n",
      "                  1_14       5000          9       0.58      0.889      0.802      0.538\n",
      "                 2_3_4       5000          1          1          0     0.0112     0.0112\n",
      "                6_15_2       5000          4          1          0      0.995      0.792\n",
      "                   2_6       5000          4      0.458          1      0.995      0.883\n",
      "                3_18_2       5000         22      0.883      0.955       0.99      0.804\n",
      "               4_1_2_2       5000         11      0.698          1      0.988      0.798\n",
      "                   1_7       5000          2          1          0      0.606      0.463\n",
      "                  3_19       5000          5      0.942          1      0.995      0.698\n",
      "                  1_18       5000          2          1          0      0.995      0.696\n",
      "                   2_7       5000          1          1          0      0.166      0.149\n",
      "                 8_5_4       5000          7      0.361      0.857      0.733      0.565\n",
      "                5_15_7       5000         45      0.936      0.956      0.968      0.837\n",
      "                  5_14       5000         27      0.689          1      0.966      0.738\n",
      "                  5_21       5000          6       0.81          1      0.972      0.606\n",
      "                   1_1       5000          3      0.754          1      0.995      0.797\n",
      "                6_15_1       5000         13      0.568          1      0.941      0.686\n",
      "                 8_6_4       5000          5          1      0.363      0.705      0.569\n",
      "                  8_15       5000         21      0.508      0.952      0.923      0.687\n",
      "                  3_11       5000          3      0.454          1      0.641      0.496\n",
      "                  8_18       5000          2      0.931          1      0.995      0.746\n",
      "                 8_4_4       5000          4          1          0      0.856      0.597\n",
      "                  3_30       5000          6      0.381          1      0.819      0.615\n",
      "                 5_7_1       5000          8      0.288      0.875      0.821      0.524\n",
      "                 5_7_2       5000         11       0.65          1      0.935      0.757\n",
      "                   1_5       5000          7      0.611          1      0.995      0.746\n",
      "                  3_29       5000         10      0.624      0.995      0.937      0.682\n",
      "                  5_12       5000          1          1          0      0.332      0.298\n",
      "                  5_11       5000          5       0.84          1      0.995      0.726\n",
      "                 8_6_2       5000          2          1          0      0.518      0.404\n",
      "                  3_12       5000          2      0.709        0.5      0.638      0.574\n",
      "                 8_4_3       5000          3          1          0       0.23      0.154\n",
      "                   5_8       5000          6          1          0      0.904      0.749\n",
      "                  8_17       5000          2          1          0      0.638      0.454\n",
      "                   3_6       5000          3          1          0      0.671      0.572\n",
      "                  1_26       5000          1          1          0     0.0199     0.0119\n",
      "                 8_5_2       5000          3       0.38      0.667      0.474      0.215\n",
      "                 6_8_1       5000          1          1          0          0          0\n",
      "                  5_17       5000          1          1          0      0.497      0.298\n",
      "                  1_10       5000          4          1          0      0.497      0.414\n",
      "                  7_18       5000          1          1          0      0.166      0.149\n",
      "                  7_14       5000          2          1          0      0.142      0.128\n",
      "Segmentation fault (core dumped)\n"
     ]
    },
    {
     "name": "stdout",
     "output_type": "stream",
     "text": [
      "      Params      GFLOPs  GPU_mem (GB)  forward (ms) backward (ms)                   input                  output\n",
      "    36164832         205         1.879         49.39         85.71      (1, 3, 1280, 1280)                    list\n",
      "    36164832         410         3.192         52.16         51.48      (2, 3, 1280, 1280)                    list\n",
      "    36164832         820         5.826            63         71.17      (4, 3, 1280, 1280)                    list\n",
      "    36164832        1640        11.178         98.72         123.4      (8, 3, 1280, 1280)                    list\n",
      "    36164832        3280        22.823         182.1         212.7     (16, 3, 1280, 1280)                    list\n"
     ]
    },
    {
     "ename": "Exception",
     "evalue": "Process exited with code 139",
     "output_type": "error",
     "traceback": [
      "\u001b[0;31m---------------------------------------------------------------------------\u001b[0m",
      "\u001b[0;31mException\u001b[0m                                 Traceback (most recent call last)",
      "\u001b[0;32m<ipython-input-1-b1b9fac1193e>\u001b[0m in \u001b[0;36m<module>\u001b[0;34m\u001b[0m\n\u001b[0;32m----> 1\u001b[0;31m \u001b[0mget_ipython\u001b[0m\u001b[0;34m(\u001b[0m\u001b[0;34m)\u001b[0m\u001b[0;34m.\u001b[0m\u001b[0msystem\u001b[0m\u001b[0;34m(\u001b[0m\u001b[0;34m'python3 train.py --img 1280 --batch -1 --epochs 40 --data \"/home/jupyter/work/resources/trafic_signs.yaml\" --weights yolov5m6.pt --project \"project\" --name \"yolov5m6\"'\u001b[0m\u001b[0;34m)\u001b[0m\u001b[0;34m\u001b[0m\u001b[0;34m\u001b[0m\u001b[0m\n\u001b[0m\u001b[1;32m      2\u001b[0m \u001b[0;31m#\u001b[0m\u001b[0;34m\u001b[0m\u001b[0;34m\u001b[0m\u001b[0;34m\u001b[0m\u001b[0m\n",
      "\u001b[0;32m/kernel/lib/python3.8/site-packages/ml_kernel/kernel.py\u001b[0m in \u001b[0;36m<lambda>\u001b[0;34m(code)\u001b[0m\n\u001b[1;32m    264\u001b[0m \u001b[0;34m\u001b[0m\u001b[0m\n\u001b[1;32m    265\u001b[0m         \u001b[0mself\u001b[0m\u001b[0;34m.\u001b[0m\u001b[0m_script_executor\u001b[0m \u001b[0;34m=\u001b[0m \u001b[0mScriptExecutor\u001b[0m\u001b[0;34m(\u001b[0m\u001b[0mget_output_error_code\u001b[0m\u001b[0;34m)\u001b[0m\u001b[0;34m\u001b[0m\u001b[0;34m\u001b[0m\u001b[0m\n\u001b[0;32m--> 266\u001b[0;31m         \u001b[0mself\u001b[0m\u001b[0;34m.\u001b[0m\u001b[0mshell\u001b[0m\u001b[0;34m.\u001b[0m\u001b[0msystem\u001b[0m \u001b[0;34m=\u001b[0m \u001b[0;32mlambda\u001b[0m \u001b[0mcode\u001b[0m\u001b[0;34m:\u001b[0m \u001b[0mself\u001b[0m\u001b[0;34m.\u001b[0m\u001b[0m_script_executor\u001b[0m\u001b[0;34m.\u001b[0m\u001b[0mexecute\u001b[0m\u001b[0;34m(\u001b[0m\u001b[0;34m\"bash\"\u001b[0m\u001b[0;34m,\u001b[0m \u001b[0mcode\u001b[0m\u001b[0;34m)\u001b[0m\u001b[0;34m\u001b[0m\u001b[0;34m\u001b[0m\u001b[0m\n\u001b[0m\u001b[1;32m    267\u001b[0m \u001b[0;34m\u001b[0m\u001b[0m\n\u001b[1;32m    268\u001b[0m     \u001b[0;32mdef\u001b[0m \u001b[0m_init_message_handlers\u001b[0m\u001b[0;34m(\u001b[0m\u001b[0mself\u001b[0m\u001b[0;34m)\u001b[0m\u001b[0;34m:\u001b[0m\u001b[0;34m\u001b[0m\u001b[0;34m\u001b[0m\u001b[0m\n",
      "\u001b[0;32m/kernel/lib/python3.8/site-packages/ml_kernel/script_executor.py\u001b[0m in \u001b[0;36mexecute\u001b[0;34m(self, lang, code)\u001b[0m\n\u001b[1;32m     41\u001b[0m         \u001b[0mreturn_code\u001b[0m \u001b[0;34m=\u001b[0m \u001b[0mself\u001b[0m\u001b[0;34m.\u001b[0m\u001b[0mdo_execute\u001b[0m\u001b[0;34m(\u001b[0m\u001b[0mcode\u001b[0m\u001b[0;34m)\u001b[0m\u001b[0;34m\u001b[0m\u001b[0;34m\u001b[0m\u001b[0m\n\u001b[1;32m     42\u001b[0m         \u001b[0;32mif\u001b[0m \u001b[0mreturn_code\u001b[0m \u001b[0;34m!=\u001b[0m \u001b[0;36m0\u001b[0m\u001b[0;34m:\u001b[0m\u001b[0;34m\u001b[0m\u001b[0;34m\u001b[0m\u001b[0m\n\u001b[0;32m---> 43\u001b[0;31m             \u001b[0;32mraise\u001b[0m \u001b[0mException\u001b[0m\u001b[0;34m(\u001b[0m\u001b[0;34m'Process exited with code %d'\u001b[0m \u001b[0;34m%\u001b[0m \u001b[0mreturn_code\u001b[0m\u001b[0;34m)\u001b[0m\u001b[0;34m\u001b[0m\u001b[0;34m\u001b[0m\u001b[0m\n\u001b[0m",
      "\u001b[0;31mException\u001b[0m: Process exited with code 139"
     ]
    }
   ],
   "source": [
    "#!g1.1\n",
    "!python3 train.py --img 1280 --batch -1 --epochs 40 --data \"/home/jupyter/work/resources/trafic_signs.yaml\" --weights yolov5m6.pt --project \"project\" --name \"yolov5m6\""
   ]
  },
  {
   "cell_type": "code",
   "execution_count": 195,
   "id": "412072a8",
   "metadata": {
    "cellId": "fb37lw1s2kfajyrmimh23o"
   },
   "outputs": [
    {
     "name": "stderr",
     "output_type": "stream",
     "text": [
      "\u001b[34m\u001b[1mdetect: \u001b[0mweights=['project/yolov5m66/weights/best.pt'], source=../hz, data=data/coco128.yaml, imgsz=[1280, 1280], conf_thres=0.25, iou_thres=0.45, max_det=1000, device=, view_img=False, save_txt=True, save_conf=True, save_crop=False, nosave=False, classes=None, agnostic_nms=False, augment=False, visualize=False, update=False, project=runs/detect, name=yolov5m6_signs_test, exist_ok=False, line_thickness=3, hide_labels=False, hide_conf=False, half=False, dnn=False, vid_stride=1\n",
      "YOLOv5 🚀 v7.0-46-g96a71b1 Python-3.8.12 torch-1.9.1+cu111 CPU\n",
      "\n",
      "Fusing layers... \n",
      "Model summary: 276 layers, 36137808 parameters, 0 gradients, 50.9 GFLOPs\n",
      "image 1/19 /home/jupyter/work/resources/hz/1543885445.jpg: 512x1280 1 2_6, 527.5ms\n",
      "image 2/19 /home/jupyter/work/resources/hz/4j2RDzd.jpeg: 704x1280 1 2_1, 1 4_1_4, 672.8ms\n",
      "image 3/19 /home/jupyter/work/resources/hz/O1CN01DDc7TR1Htlq93Shda_!!6000000000816-0-tbvideo.jpg: 768x1280 (no detections), 700.0ms\n",
      "image 4/19 /home/jupyter/work/resources/hz/O1CN01pnXmpx1y8cOalyXxP_!!6000000006534-0-tbvideo.jpg: 768x1280 1 5_15_2, 1 3_13, 1 4_1_4, 647.5ms\n",
      "image 5/19 /home/jupyter/work/resources/hz/autosave01_02_2012_09_40_35.jpg: 768x1280 1 5_15_5, 663.9ms\n",
      "image 6/19 /home/jupyter/work/resources/hz/cdbe76c1ca28f040ce18d471553ed371.jpg: 768x1280 1 5_5, 1 1_8, 626.2ms\n",
      "image 7/19 /home/jupyter/work/resources/hz/i (1).webp: 768x1280 (no detections), 639.1ms\n",
      "image 8/19 /home/jupyter/work/resources/hz/i.webp: 768x1280 2 5_19_1s, 625.7ms\n",
      "image 9/19 /home/jupyter/work/resources/hz/maxresdefault (1).jpg: 768x1280 1 2_4, 633.6ms\n",
      "image 10/19 /home/jupyter/work/resources/hz/maxresdefault (2).jpg: 768x1280 2 5_19_1s, 627.6ms\n",
      "image 11/19 /home/jupyter/work/resources/hz/maxresdefault (3).jpg: 768x1280 3 5_15_2s, 631.1ms\n",
      "image 12/19 /home/jupyter/work/resources/hz/maxresdefault (4).jpg: 768x1280 1 5_19_1, 640.5ms\n",
      "image 13/19 /home/jupyter/work/resources/hz/maxresdefault.jpg: 768x1280 (no detections), 633.7ms\n",
      "image 14/19 /home/jupyter/work/resources/hz/photo_2022-12-23_20-10-02.jpg: 1280x960 2 5_15_2s, 1 3_1, 916.5ms\n",
      "image 15/19 /home/jupyter/work/resources/hz/photo_2022-12-23_20-10-03 (2).jpg: 1280x960 1 5_16, 1 5_14, 838.0ms\n",
      "image 16/19 /home/jupyter/work/resources/hz/photo_2022-12-23_20-10-03 (3).jpg: 1280x960 1 2_1, 1 3_27, 828.3ms\n",
      "image 17/19 /home/jupyter/work/resources/hz/photo_2022-12-23_20-10-03 (4).jpg: 1280x960 3 5_15_2s, 869.2ms\n",
      "image 18/19 /home/jupyter/work/resources/hz/photo_2022-12-23_20-10-03.jpg: 1280x960 1 1_23, 1 5_19_1, 1 3_27, 885.7ms\n",
      "image 19/19 /home/jupyter/work/resources/hz/th-1113324474.jpg: 768x1280 2 5_19_1s, 641.2ms\n",
      "Speed: 1.5ms pre-process, 697.3ms inference, 4.9ms NMS per image at shape (1, 3, 1280, 1280)\n",
      "Results saved to \u001b[1mruns/detect/yolov5m6_signs_test10\u001b[0m\n",
      "16 labels saved to runs/detect/yolov5m6_signs_test10/labels\n"
     ]
    }
   ],
   "source": [
    "!python3 detect.py --source  ../hz --weights project/yolov5m66/weights/best.pt --save-txt --save-conf --name \"yolov5m6_signs_test\" --imgsz 1280 --conf-thres 0.25"
   ]
  },
  {
   "cell_type": "code",
   "execution_count": null,
   "id": "2c5f4fcd",
   "metadata": {
    "cellId": "oj585ttmnoupk0eo1e6sj"
   },
   "outputs": [],
   "source": []
  },
  {
   "cell_type": "code",
   "execution_count": 185,
   "id": "1fc5ce0a",
   "metadata": {
    "cellId": "z6xgsctfr63p1iu39aft9"
   },
   "outputs": [
    {
     "data": {
      "text/plain": [
       "'/home/jupyter/work/resources/yolov5'"
      ]
     },
     "execution_count": 185,
     "metadata": {},
     "output_type": "execute_result"
    }
   ],
   "source": [
    "#!g2.mig\n"
   ]
  },
  {
   "cell_type": "code",
   "execution_count": null,
   "id": "7f8fc984",
   "metadata": {
    "cellId": "vc9zya9pif3w1q5pz4fk7"
   },
   "outputs": [],
   "source": [
    "#!g2.mig\n"
   ]
  },
  {
   "cell_type": "code",
   "execution_count": null,
   "id": "e7bf64f0",
   "metadata": {
    "cellId": "vf37nkhabjffcymn8btrq"
   },
   "outputs": [],
   "source": []
  },
  {
   "cell_type": "code",
   "execution_count": null,
   "id": "9946778a",
   "metadata": {
    "cellId": "cn3h078bj8kl2k54aw9mu"
   },
   "outputs": [],
   "source": []
  },
  {
   "cell_type": "code",
   "execution_count": null,
   "id": "5714438a",
   "metadata": {
    "cellId": "k6mcb5831rhk6cg1wprt5h"
   },
   "outputs": [],
   "source": []
  },
  {
   "cell_type": "code",
   "execution_count": null,
   "id": "3ca4c970",
   "metadata": {
    "cellId": "0lhzv9ogc4pxr50ivebm"
   },
   "outputs": [],
   "source": []
  },
  {
   "cell_type": "code",
   "execution_count": null,
   "id": "958a6ef2",
   "metadata": {
    "cellId": "ff647jqvd8ma1a9afa6zgk"
   },
   "outputs": [],
   "source": []
  },
  {
   "cell_type": "code",
   "execution_count": null,
   "id": "a213a115",
   "metadata": {
    "cellId": "scmnkqy5tt95rwztwusk"
   },
   "outputs": [],
   "source": []
  },
  {
   "cell_type": "code",
   "execution_count": 2,
   "id": "646bd2bd",
   "metadata": {
    "cellId": "n8v0gmuo8jrvnpmdi1wqe"
   },
   "outputs": [
    {
     "name": "stderr",
     "output_type": "stream",
     "text": [
      "Cloning into 'yolov5'...\n"
     ]
    }
   ],
   "source": [
    "!git clone https://github.com/ultralytics/yolov5"
   ]
  },
  {
   "cell_type": "code",
   "execution_count": null,
   "id": "fc6e0f65",
   "metadata": {
    "cellId": "4g69n983x3hnwv5ysg39th"
   },
   "outputs": [],
   "source": []
  },
  {
   "cell_type": "code",
   "execution_count": 9,
   "id": "6d21b3a8",
   "metadata": {
    "cellId": "izumrar5b6pbxduyi1yh"
   },
   "outputs": [
    {
     "name": "stdout",
     "output_type": "stream",
     "text": [
      "/home/jupyter/work/resources/yolov5\n"
     ]
    }
   ],
   "source": [
    "%cd yolov5"
   ]
  },
  {
   "cell_type": "code",
   "execution_count": 10,
   "id": "1011ba6c",
   "metadata": {
    "cellId": "qhhl766s1gdvbgayf3jar"
   },
   "outputs": [
    {
     "name": "stdout",
     "output_type": "stream",
     "text": [
      "Defaulting to user installation because normal site-packages is not writeable\n",
      "Requirement already satisfied: gitpython in /usr/local/lib/python3.8/dist-packages (from -r requirements.txt (line 5)) (3.1.24)\n",
      "Collecting ipython\n",
      "  Downloading ipython-7.13.0-py3-none-any.whl (780 kB)\n",
      "     |████████████████████████████████| 780 kB 2.5 MB/s            \n",
      "\u001b[?25hRequirement already satisfied: matplotlib>=3.2.2 in /kernel/lib/python3.8/site-packages (from -r requirements.txt (line 7)) (3.3.3)\n",
      "Requirement already satisfied: numpy>=1.18.5 in /home/jupyter/.local/lib/python3.8/site-packages (from -r requirements.txt (line 8)) (1.23.5)\n",
      "Requirement already satisfied: opencv-python>=4.1.1 in /home/jupyter/.local/lib/python3.8/site-packages (from -r requirements.txt (line 9)) (4.6.0.66)\n",
      "Requirement already satisfied: Pillow>=7.1.2 in /kernel/lib/python3.8/site-packages (from -r requirements.txt (line 10)) (9.3.0)\n",
      "Requirement already satisfied: psutil in /kernel/lib/python3.8/site-packages (from -r requirements.txt (line 11)) (5.7.3)\n",
      "Requirement already satisfied: PyYAML>=5.3.1 in /usr/local/lib/python3.8/dist-packages (from -r requirements.txt (line 12)) (5.3.1)\n",
      "Requirement already satisfied: requests>=2.23.0 in /kernel/lib/python3.8/site-packages (from -r requirements.txt (line 13)) (2.25.1)\n",
      "Requirement already satisfied: scipy>=1.4.1 in /usr/local/lib/python3.8/dist-packages (from -r requirements.txt (line 14)) (1.4.1)\n",
      "Requirement already satisfied: thop>=0.1.1 in /home/jupyter/.local/lib/python3.8/site-packages (from -r requirements.txt (line 15)) (0.1.1.post2209072238)\n",
      "Requirement already satisfied: torch>=1.7.0 in /usr/local/lib/python3.8/dist-packages (from -r requirements.txt (line 16)) (1.9.1+cu111)\n",
      "Requirement already satisfied: torchvision>=0.8.1 in /usr/local/lib/python3.8/dist-packages (from -r requirements.txt (line 17)) (0.10.1+cu111)\n",
      "Requirement already satisfied: tqdm>=4.64.0 in /home/jupyter/.local/lib/python3.8/site-packages (from -r requirements.txt (line 18)) (4.64.1)\n",
      "Requirement already satisfied: tensorboard>=2.4.1 in /usr/local/lib/python3.8/dist-packages (from -r requirements.txt (line 22)) (2.6.0)\n",
      "Requirement already satisfied: pandas>=1.1.4 in /home/jupyter/.local/lib/python3.8/site-packages (from -r requirements.txt (line 27)) (1.5.2)\n",
      "Requirement already satisfied: seaborn>=0.11.0 in /home/jupyter/.local/lib/python3.8/site-packages (from -r requirements.txt (line 28)) (0.12.1)\n",
      "Requirement already satisfied: gitdb<5,>=4.0.1 in /usr/local/lib/python3.8/dist-packages (from gitpython->-r requirements.txt (line 5)) (4.0.9)\n",
      "Requirement already satisfied: typing-extensions>=3.7.4.3 in /usr/local/lib/python3.8/dist-packages (from gitpython->-r requirements.txt (line 5)) (3.7.4.3)\n",
      "Requirement already satisfied: prompt-toolkit!=3.0.0,!=3.0.1,<3.1.0,>=2.0.0 in /kernel/lib/python3.8/site-packages (from ipython->-r requirements.txt (line 6)) (3.0.33)\n",
      "Requirement already satisfied: traitlets>=4.2 in /kernel/lib/python3.8/site-packages (from ipython->-r requirements.txt (line 6)) (5.5.0)\n",
      "Requirement already satisfied: decorator in /kernel/lib/python3.8/site-packages (from ipython->-r requirements.txt (line 6)) (5.1.1)\n",
      "Requirement already satisfied: pygments in /kernel/lib/python3.8/site-packages (from ipython->-r requirements.txt (line 6)) (2.13.0)\n",
      "Requirement already satisfied: pickleshare in /kernel/lib/python3.8/site-packages (from ipython->-r requirements.txt (line 6)) (0.7.5)\n",
      "Requirement already satisfied: setuptools>=18.5 in /kernel/lib/python3.8/site-packages (from ipython->-r requirements.txt (line 6)) (51.0.0)\n",
      "Requirement already satisfied: backcall in /kernel/lib/python3.8/site-packages (from ipython->-r requirements.txt (line 6)) (0.2.0)\n",
      "Requirement already satisfied: pexpect in /kernel/lib/python3.8/site-packages (from ipython->-r requirements.txt (line 6)) (4.8.0)\n",
      "Requirement already satisfied: jedi>=0.10 in /kernel/lib/python3.8/site-packages (from ipython->-r requirements.txt (line 6)) (0.17.2)\n",
      "Requirement already satisfied: cycler>=0.10 in /kernel/lib/python3.8/site-packages (from matplotlib>=3.2.2->-r requirements.txt (line 7)) (0.11.0)\n",
      "Requirement already satisfied: pyparsing!=2.0.4,!=2.1.2,!=2.1.6,>=2.0.3 in /kernel/lib/python3.8/site-packages (from matplotlib>=3.2.2->-r requirements.txt (line 7)) (2.4.7)\n",
      "Requirement already satisfied: python-dateutil>=2.1 in /kernel/lib/python3.8/site-packages (from matplotlib>=3.2.2->-r requirements.txt (line 7)) (2.8.2)\n",
      "Requirement already satisfied: kiwisolver>=1.0.1 in /kernel/lib/python3.8/site-packages (from matplotlib>=3.2.2->-r requirements.txt (line 7)) (1.4.4)\n",
      "Requirement already satisfied: urllib3<1.27,>=1.21.1 in /kernel/lib/python3.8/site-packages (from requests>=2.23.0->-r requirements.txt (line 13)) (1.26.12)\n",
      "Requirement already satisfied: certifi>=2017.4.17 in /kernel/lib/python3.8/site-packages (from requests>=2.23.0->-r requirements.txt (line 13)) (2022.9.24)\n",
      "Requirement already satisfied: chardet<5,>=3.0.2 in /kernel/lib/python3.8/site-packages (from requests>=2.23.0->-r requirements.txt (line 13)) (4.0.0)\n",
      "Requirement already satisfied: idna<3,>=2.5 in /kernel/lib/python3.8/site-packages (from requests>=2.23.0->-r requirements.txt (line 13)) (2.10)\n",
      "Requirement already satisfied: absl-py>=0.4 in /usr/local/lib/python3.8/dist-packages (from tensorboard>=2.4.1->-r requirements.txt (line 22)) (0.12.0)\n",
      "Requirement already satisfied: markdown>=2.6.8 in /usr/local/lib/python3.8/dist-packages (from tensorboard>=2.4.1->-r requirements.txt (line 22)) (3.3.6)\n",
      "Requirement already satisfied: google-auth<2,>=1.6.3 in /usr/local/lib/python3.8/dist-packages (from tensorboard>=2.4.1->-r requirements.txt (line 22)) (1.35.0)\n",
      "Requirement already satisfied: werkzeug>=0.11.15 in /usr/local/lib/python3.8/dist-packages (from tensorboard>=2.4.1->-r requirements.txt (line 22)) (2.0.2)\n",
      "Requirement already satisfied: wheel>=0.26 in /usr/local/lib/python3.8/dist-packages (from tensorboard>=2.4.1->-r requirements.txt (line 22)) (0.37.1)\n",
      "Requirement already satisfied: google-auth-oauthlib<0.5,>=0.4.1 in /usr/local/lib/python3.8/dist-packages (from tensorboard>=2.4.1->-r requirements.txt (line 22)) (0.4.6)\n",
      "Requirement already satisfied: grpcio>=1.24.3 in /usr/local/lib/python3.8/dist-packages (from tensorboard>=2.4.1->-r requirements.txt (line 22)) (1.43.0)\n",
      "Requirement already satisfied: protobuf>=3.6.0 in /usr/local/lib/python3.8/dist-packages (from tensorboard>=2.4.1->-r requirements.txt (line 22)) (3.19.1)\n",
      "Requirement already satisfied: tensorboard-data-server<0.7.0,>=0.6.0 in /usr/local/lib/python3.8/dist-packages (from tensorboard>=2.4.1->-r requirements.txt (line 22)) (0.6.1)\n",
      "Requirement already satisfied: tensorboard-plugin-wit>=1.6.0 in /usr/local/lib/python3.8/dist-packages (from tensorboard>=2.4.1->-r requirements.txt (line 22)) (1.8.0)\n",
      "Requirement already satisfied: pytz>=2020.1 in /usr/local/lib/python3.8/dist-packages (from pandas>=1.1.4->-r requirements.txt (line 27)) (2021.3)\n",
      "Requirement already satisfied: six in /kernel/lib/python3.8/site-packages (from absl-py>=0.4->tensorboard>=2.4.1->-r requirements.txt (line 22)) (1.16.0)\n",
      "Requirement already satisfied: smmap<6,>=3.0.1 in /usr/local/lib/python3.8/dist-packages (from gitdb<5,>=4.0.1->gitpython->-r requirements.txt (line 5)) (5.0.0)\n",
      "Requirement already satisfied: rsa<5,>=3.1.4 in /usr/local/lib/python3.8/dist-packages (from google-auth<2,>=1.6.3->tensorboard>=2.4.1->-r requirements.txt (line 22)) (4.8)\n",
      "Requirement already satisfied: pyasn1-modules>=0.2.1 in /usr/local/lib/python3.8/dist-packages (from google-auth<2,>=1.6.3->tensorboard>=2.4.1->-r requirements.txt (line 22)) (0.2.8)\n",
      "Requirement already satisfied: cachetools<5.0,>=2.0.0 in /usr/local/lib/python3.8/dist-packages (from google-auth<2,>=1.6.3->tensorboard>=2.4.1->-r requirements.txt (line 22)) (4.2.4)\n",
      "Requirement already satisfied: requests-oauthlib>=0.7.0 in /usr/local/lib/python3.8/dist-packages (from google-auth-oauthlib<0.5,>=0.4.1->tensorboard>=2.4.1->-r requirements.txt (line 22)) (1.3.0)\n",
      "Requirement already satisfied: parso<0.8.0,>=0.7.0 in /kernel/lib/python3.8/site-packages (from jedi>=0.10->ipython->-r requirements.txt (line 6)) (0.7.1)\n",
      "Requirement already satisfied: importlib-metadata>=4.4 in /kernel/lib/python3.8/site-packages (from markdown>=2.6.8->tensorboard>=2.4.1->-r requirements.txt (line 22)) (5.0.0)\n",
      "Requirement already satisfied: wcwidth in /kernel/lib/python3.8/site-packages (from prompt-toolkit!=3.0.0,!=3.0.1,<3.1.0,>=2.0.0->ipython->-r requirements.txt (line 6)) (0.2.5)\n",
      "Requirement already satisfied: ptyprocess>=0.5 in /kernel/lib/python3.8/site-packages (from pexpect->ipython->-r requirements.txt (line 6)) (0.7.0)\n",
      "Requirement already satisfied: zipp>=0.5 in /kernel/lib/python3.8/site-packages (from importlib-metadata>=4.4->markdown>=2.6.8->tensorboard>=2.4.1->-r requirements.txt (line 22)) (3.10.0)\n",
      "Requirement already satisfied: pyasn1<0.5.0,>=0.4.6 in /usr/local/lib/python3.8/dist-packages (from pyasn1-modules>=0.2.1->google-auth<2,>=1.6.3->tensorboard>=2.4.1->-r requirements.txt (line 22)) (0.4.8)\n",
      "Requirement already satisfied: oauthlib>=3.0.0 in /usr/local/lib/python3.8/dist-packages (from requests-oauthlib>=0.7.0->google-auth-oauthlib<0.5,>=0.4.1->tensorboard>=2.4.1->-r requirements.txt (line 22)) (3.1.1)\n",
      "Installing collected packages: ipython\n",
      "\u001b[33m  WARNING: The scripts iptest, iptest3, ipython and ipython3 are installed in '/home/jupyter/.local/bin' which is not on PATH.\n",
      "  Consider adding this directory to PATH or, if you prefer to suppress this warning, use --no-warn-script-location.\u001b[0m\n",
      "Successfully installed ipython-7.13.0\n",
      "\u001b[33mWARNING: You are using pip version 21.3.1; however, version 22.3.1 is available.\n",
      "You should consider upgrading via the '/usr/local/bin/python3 -m pip install --upgrade pip' command.\u001b[0m\n"
     ]
    }
   ],
   "source": [
    "%pip install -r requirements.txt"
   ]
  },
  {
   "cell_type": "code",
   "execution_count": 16,
   "id": "d09d9fd2",
   "metadata": {
    "cellId": "lsqz23oisym2dzsxktxte"
   },
   "outputs": [
    {
     "name": "stderr",
     "output_type": "stream",
     "text": [
      "Cloning into 'JSON2YOLO'...\n"
     ]
    }
   ],
   "source": [
    "!git clone https://github.com/ultralytics/JSON2YOLO"
   ]
  },
  {
   "cell_type": "code",
   "execution_count": 25,
   "id": "bd5bf8ec",
   "metadata": {
    "cellId": "6l0sfcs33kiizccrwi3tt"
   },
   "outputs": [
    {
     "name": "stdout",
     "output_type": "stream",
     "text": [
      "Found existing installation: opencv-python 4.6.0.66\n",
      "Uninstalling opencv-python-4.6.0.66:\n",
      "  Successfully uninstalled opencv-python-4.6.0.66\n",
      "Found existing installation: opencv-contrib-python 4.5.3.56\n",
      "Uninstalling opencv-contrib-python-4.5.3.56:\n",
      "  Successfully uninstalled opencv-contrib-python-4.5.3.56\n",
      "\u001b[31mERROR: Exception:\n",
      "Traceback (most recent call last):\n",
      "  File \"/usr/local/lib/python3.8/dist-packages/pip/_internal/cli/base_command.py\", line 164, in exc_logging_wrapper\n",
      "    status = run_func(*args)\n",
      "  File \"/usr/local/lib/python3.8/dist-packages/pip/_internal/commands/uninstall.py\", line 102, in run\n",
      "    uninstall_pathset.commit()\n",
      "  File \"/usr/local/lib/python3.8/dist-packages/pip/_internal/req/req_uninstall.py\", line 435, in commit\n",
      "    self._moved_paths.commit()\n",
      "  File \"/usr/local/lib/python3.8/dist-packages/pip/_internal/req/req_uninstall.py\", line 288, in commit\n",
      "    save_dir.cleanup()\n",
      "  File \"/usr/local/lib/python3.8/dist-packages/pip/_internal/utils/temp_dir.py\", line 173, in cleanup\n",
      "    rmtree(self._path)\n",
      "  File \"/usr/local/lib/python3.8/dist-packages/pip/_vendor/tenacity/__init__.py\", line 326, in wrapped_f\n",
      "    return self(f, *args, **kw)\n",
      "  File \"/usr/local/lib/python3.8/dist-packages/pip/_vendor/tenacity/__init__.py\", line 406, in __call__\n",
      "    do = self.iter(retry_state=retry_state)\n",
      "  File \"/usr/local/lib/python3.8/dist-packages/pip/_vendor/tenacity/__init__.py\", line 362, in iter\n",
      "    raise retry_exc.reraise()\n",
      "  File \"/usr/local/lib/python3.8/dist-packages/pip/_vendor/tenacity/__init__.py\", line 195, in reraise\n",
      "    raise self.last_attempt.result()\n",
      "  File \"/usr/lib/python3.8/concurrent/futures/_base.py\", line 437, in result\n",
      "    return self.__get_result()\n",
      "  File \"/usr/lib/python3.8/concurrent/futures/_base.py\", line 389, in __get_result\n",
      "    raise self._exception\n",
      "  File \"/usr/local/lib/python3.8/dist-packages/pip/_vendor/tenacity/__init__.py\", line 409, in __call__\n",
      "    result = fn(*args, **kwargs)\n",
      "  File \"/usr/local/lib/python3.8/dist-packages/pip/_internal/utils/misc.py\", line 126, in rmtree\n",
      "    shutil.rmtree(dir, ignore_errors=ignore_errors, onerror=rmtree_errorhandler)\n",
      "  File \"/usr/lib/python3.8/shutil.py\", line 718, in rmtree\n",
      "    _rmtree_safe_fd(fd, path, onerror)\n",
      "  File \"/usr/lib/python3.8/shutil.py\", line 675, in _rmtree_safe_fd\n",
      "    onerror(os.unlink, fullname, sys.exc_info())\n",
      "  File \"/usr/lib/python3.8/shutil.py\", line 673, in _rmtree_safe_fd\n",
      "    os.unlink(entry.name, dir_fd=topfd)\n",
      "OSError: [Errno 16] Device or resource busy: '.nfs00000000000002d700000001'\u001b[0m\n",
      "Defaulting to user installation because normal site-packages is not writeable\n",
      "\u001b[33mWARNING: Ignoring invalid distribution -pencv-contrib-python (/home/jupyter/.local/lib/python3.8/site-packages)\u001b[0m\n",
      "Collecting opencv-contrib-python\n",
      "  Downloading opencv_contrib_python-4.6.0.66-cp36-abi3-manylinux_2_17_x86_64.manylinux2014_x86_64.whl (67.1 MB)\n",
      "     |████████████████████████████████| 67.1 MB 28 kB/s             \n",
      "\u001b[?25hRequirement already satisfied: numpy>=1.14.5 in /home/jupyter/.local/lib/python3.8/site-packages (from opencv-contrib-python) (1.23.5)\n",
      "\u001b[33mWARNING: Ignoring invalid distribution -pencv-contrib-python (/home/jupyter/.local/lib/python3.8/site-packages)\u001b[0m\n",
      "Installing collected packages: opencv-contrib-python\n",
      "\u001b[33mWARNING: Ignoring invalid distribution -pencv-contrib-python (/home/jupyter/.local/lib/python3.8/site-packages)\u001b[0m\n",
      "Successfully installed opencv-contrib-python-4.6.0.66\n",
      "\u001b[33mWARNING: Ignoring invalid distribution -pencv-contrib-python (/home/jupyter/.local/lib/python3.8/site-packages)\u001b[0m\n",
      "\u001b[33mWARNING: Ignoring invalid distribution -pencv-contrib-python (/home/jupyter/.local/lib/python3.8/site-packages)\u001b[0m\n",
      "\u001b[33mWARNING: You are using pip version 21.3.1; however, version 22.3.1 is available.\n",
      "You should consider upgrading via the '/usr/local/bin/python3 -m pip install --upgrade pip' command.\u001b[0m\n",
      "Defaulting to user installation because normal site-packages is not writeable\n",
      "\u001b[33mWARNING: Ignoring invalid distribution -pencv-contrib-python (/home/jupyter/.local/lib/python3.8/site-packages)\u001b[0m\n",
      "Collecting opencv-python\n",
      "  Downloading opencv_python-4.6.0.66-cp36-abi3-manylinux_2_17_x86_64.manylinux2014_x86_64.whl (60.9 MB)\n",
      "     |████████████████████████████████| 60.9 MB 74 kB/s             \n",
      "\u001b[?25hRequirement already satisfied: numpy>=1.17.3 in /home/jupyter/.local/lib/python3.8/site-packages (from opencv-python) (1.23.5)\n",
      "\u001b[33mWARNING: Ignoring invalid distribution -pencv-contrib-python (/home/jupyter/.local/lib/python3.8/site-packages)\u001b[0m\n",
      "Installing collected packages: opencv-python\n",
      "\u001b[33mWARNING: Ignoring invalid distribution -pencv-contrib-python (/home/jupyter/.local/lib/python3.8/site-packages)\u001b[0m\n",
      "Successfully installed opencv-python-4.6.0.66\n",
      "\u001b[33mWARNING: Ignoring invalid distribution -pencv-contrib-python (/home/jupyter/.local/lib/python3.8/site-packages)\u001b[0m\n",
      "\u001b[33mWARNING: Ignoring invalid distribution -pencv-contrib-python (/home/jupyter/.local/lib/python3.8/site-packages)\u001b[0m\n",
      "\u001b[33mWARNING: You are using pip version 21.3.1; however, version 22.3.1 is available.\n",
      "You should consider upgrading via the '/usr/local/bin/python3 -m pip install --upgrade pip' command.\u001b[0m\n"
     ]
    }
   ],
   "source": [
    "%pip uninstall opencv-python\n",
    "%pip uninstall opencv-contrib-python\n",
    "\n",
    "%pip install opencv-contrib-python\n",
    "%pip install opencv-python"
   ]
  },
  {
   "cell_type": "code",
   "execution_count": 28,
   "id": "076045a0",
   "metadata": {
    "cellId": "qqp70mnaz9dvme3m1y21"
   },
   "outputs": [
    {
     "data": {
      "text/plain": [
       "['/tmp/xdg_cache/torch/hub/ultralytics_yolov5_master',\n",
       " '/tmp/xdg_cache/torch/hub/ultralytics_yolov5_master',\n",
       " '/home/jupyter/work/resources',\n",
       " '/usr/lib/python38.zip',\n",
       " '/usr/lib/python3.8',\n",
       " '/usr/lib/python3.8/lib-dynload',\n",
       " '',\n",
       " '/kernel/lib/python3.8/site-packages',\n",
       " '/home/jupyter/.local/lib/python3.8/site-packages',\n",
       " '/kernel/fallback/lib/python3.8/site-packages',\n",
       " '/usr/local/lib/python3.8/dist-packages',\n",
       " '/usr/lib/python3/dist-packages',\n",
       " '/kernel/lib/python3.8/site-packages/IPython/extensions',\n",
       " '/home/jupyter/.ipython',\n",
       " '/kernel/lib/python3.8/site-packages/IPython/extensions',\n",
       " 'yolov5/JSON2YOLO',\n",
       " 'yolov5/JSON2YOLO',\n",
       " 'yolov5/JSON2YOLO',\n",
       " 'yolov5/JSON2YOLO']"
      ]
     },
     "execution_count": 28,
     "metadata": {},
     "output_type": "execute_result"
    }
   ],
   "source": [
    "sys.path"
   ]
  },
  {
   "cell_type": "code",
   "execution_count": 40,
   "id": "830d310a",
   "metadata": {
    "cellId": "w5a4pxnhcde3dredtsbpyn"
   },
   "outputs": [
    {
     "name": "stdout",
     "output_type": "stream",
     "text": [
      "/home/jupyter/work/resources/yolov5\n"
     ]
    }
   ],
   "source": [
    "!pwd"
   ]
  },
  {
   "cell_type": "code",
   "execution_count": 41,
   "id": "e18d8a69",
   "metadata": {
    "cellId": "5ecmfwxc34dz1hucrjxfa"
   },
   "outputs": [
    {
     "data": {
      "text/plain": [
       "'test_annotation/val_anno.json'"
      ]
     },
     "execution_count": 41,
     "metadata": {},
     "output_type": "execute_result"
    }
   ],
   "source": [
    "import sys\n",
    "import os\n",
    "from shutil import move\n",
    "\n",
    "#sys.path.append('yolov5/JSON2YOLO')\n",
    "from JSON2YOLO.general_json2yolo import convert_coco_json\n",
    "\n",
    "test_path = 'test_annotation'\n",
    "train_path = 'train_annotation'\n",
    "\n",
    "os.makedirs(train_path, exist_ok=True)\n",
    "os.makedirs(test_path, exist_ok=True)\n",
    "\n",
    "\n",
    "move('../train_anno.json', os.path.join(train_path, 'train_anno.json'))\n",
    "move('../val_anno.json', os.path.join(test_path, 'val_anno.json'))"
   ]
  }
 ],
 "metadata": {
  "language_info": {
   "codemirror_mode": {
    "name": "ipython",
    "version": 3
   },
   "file_extension": ".py",
   "mimetype": "text/x-python",
   "name": "python",
   "nbconvert_exporter": "python",
   "pygments_lexer": "ipython3",
   "version": "3.7.7"
  },
  "notebookId": "ebe45a20-591f-4c9b-9e4e-40ab6648c769",
  "notebookPath": "v5_test.ipynb"
 },
 "nbformat": 4,
 "nbformat_minor": 5
}
