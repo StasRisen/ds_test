{
 "cells": [
  {
   "cell_type": "markdown",
   "metadata": {
    "id": "dH7qx_irU4Y8"
   },
   "source": [
    "###ML1_1: \n",
    "https://www.hackerrank.com/challenges/capturing-non-capturing-groups/problem?isFullScreen=true\n",
    "\n",
    "###ML1_2: \n",
    "https://www.hackerrank.com/challenges/branch-reset-groups/problem?isFullScreen=true\n",
    "\n",
    "###ML1_3: \n",
    "https://www.hackerrank.com/challenges/detect-html-links/problem?isFullScreen=true\n",
    "\n",
    "###ML1_4: Реализовать stemming, lemmatization & BoW на следующем датасете: https://cloud.mail.ru/public/Z4L3/vB8GcgTtK (Russian Toxic-abuse comments)"
   ]
  },
  {
   "cell_type": "code",
   "execution_count": 2,
   "metadata": {
    "id": "xJfkstKpqsXp"
   },
   "outputs": [
    {
     "name": "stdout",
     "output_type": "stream",
     "text": [
      "okokok\n",
      "true\n"
     ]
    }
   ],
   "source": [
    "'''1. Task\n",
    "\n",
    "You have a test String .\n",
    "Your task is to write a regex which will match  with the following condition:\n",
    "should have  or more consecutive repetitions of ok.\n",
    "'''\n",
    "Regex_Pattern = r'(ok){3}'\t# Do not delete 'r'.\n",
    "\n",
    "import re\n",
    "\n",
    "print(str(bool(re.search(Regex_Pattern, input()))).lower())"
   ]
  },
  {
   "cell_type": "code",
   "execution_count": 5,
   "metadata": {},
   "outputs": [
    {
     "name": "stdout",
     "output_type": "stream",
     "text": [
      "12:34:56:78\n",
      "true\n"
     ]
    }
   ],
   "source": [
    "'''\n",
    "Task\n",
    "\n",
    "You have a test string .\n",
    "Your task is to write a regex which will match , with following condition(s):\n",
    "\n",
    " consists of 8 digits.\n",
    " must have \"---\", \"-\", \".\" or \":\" separator such that string  gets divided in  parts, with each part having exactly two digits.\n",
    " string must have exactly one kind of separator.\n",
    "Separators must have integers on both sides.\n",
    "'''\n",
    "\n",
    "Regex_Pattern = r'^\\d{2}(-{1}|-{3}|.?|:?)\\d{2}\\1\\d{2}\\1\\d{2}$'\n",
    "\n",
    "print(str(bool(re.search(Regex_Pattern, input()))).lower())"
   ]
  },
  {
   "cell_type": "code",
   "execution_count": 33,
   "metadata": {},
   "outputs": [
    {
     "ename": "SystemExit",
     "evalue": "",
     "output_type": "error",
     "traceback": [
      "An exception has occurred, use %tb to see the full traceback.\n",
      "\u001b[1;31mSystemExit\u001b[0m\n"
     ]
    }
   ],
   "source": [
    "#Кусок проверен в pycharm и на hackerrank тоже прошел все тесты. Почему не дает работать \n",
    "#с входным потоком в юпитере - не знаю\n",
    "import re\n",
    "import sys\n",
    "\n",
    "reg = r'<a href=\\\"(.+?)\\\".*?>([^<]*?)</'\n",
    "x = []\n",
    "i = 0\n",
    "for text in sys.stdin:\n",
    "    if len(text.strip()) > 10000:\n",
    "        continue\n",
    "    text = (re.findall(reg, text))\n",
    "\n",
    "    if len(text) > 0:\n",
    "        x.append(text)\n",
    "    i += 1\n",
    "    if i == 100:\n",
    "        sys.exit()\n",
    "\n",
    "for i, item in enumerate(x):\n",
    "    for x in item:\n",
    "        print(f'{x[0]},{x[1].strip()}')\n"
   ]
  }
 ],
 "metadata": {
  "colab": {
   "name": "NLP1_homework",
   "provenance": [],
   "toc_visible": true
  },
  "kernelspec": {
   "display_name": "Python 3 (ipykernel)",
   "language": "python",
   "name": "python3"
  },
  "language_info": {
   "codemirror_mode": {
    "name": "ipython",
    "version": 3
   },
   "file_extension": ".py",
   "mimetype": "text/x-python",
   "name": "python",
   "nbconvert_exporter": "python",
   "pygments_lexer": "ipython3",
   "version": "3.9.12"
  }
 },
 "nbformat": 4,
 "nbformat_minor": 1
}
